{
 "cells": [
  {
   "cell_type": "code",
   "execution_count": 22,
   "id": "57c536d4-8ae1-43fb-a226-a7028e5acab3",
   "metadata": {},
   "outputs": [],
   "source": [
    "from datetime import datetime, timedelta\n",
    "from tqdm import tqdm\n",
    "\n",
    "def get_past_articles(past=30):\n",
    "    past_articles = {}\n",
    "    for past_days in range(1, past):\n",
    "        from_day = str(datetime.now() - timedelta(days=past_days))\n",
    "        to_day = str(datetime.now() - timedelta(days=past_days - 1))\n",
    "        past_articles.update({from_day: to_day})\n",
    "    return past_articles\n",
    "\n",
    "def get_articles(query, past=30):\n",
    "    past_articles = get_past_articles(past)\n",
    "    all_articles = []\n",
    "\n",
    "    for from_day, to_day in tqdm(past_articles.items()):\n",
    "        for pag in tqdm(range(1, 6)):\n",
    "            pag_articles = newsapi.get_everything(q=query, language='en', from_param=from_day, to=to_day,\n",
    "                                                  sort_by='relevancy', page=pag)['articles']\n",
    "\n",
    "            if len(pag_articles) == 0:\n",
    "                break\n",
    "\n",
    "            all_articles.extend(pag_articles)\n",
    "\n",
    "    return all_articles"
   ]
  },
  {
   "cell_type": "code",
   "execution_count": 23,
   "id": "4b6580f3-6bb7-4155-a497-240ae82969b1",
   "metadata": {},
   "outputs": [],
   "source": [
    "import pandas as pd\n",
    "\n",
    "# Load the DataFrame from the pickle file\n",
    "df = pd.read_pickle('articles.pickle')\n"
   ]
  },
  {
   "cell_type": "code",
   "execution_count": 24,
   "id": "1f5e87d5-5bd2-4b6e-a09a-728f72560544",
   "metadata": {},
   "outputs": [],
   "source": [
    "# Ensure columns are named correctly\n",
    "df.columns = ['desc', 'date', 'title']\n",
    "\n",
    "# Drop duplicate rows based on the 'title' column and reset the index\n",
    "df = df.drop_duplicates(subset='title').reset_index(drop=True)\n",
    "\n",
    "# Drop rows with missing values (NaN) in any column\n",
    "df = df.dropna()"
   ]
  },
  {
   "cell_type": "code",
   "execution_count": 25,
   "id": "b8522445-550d-4cde-b185-0c68f01acef8",
   "metadata": {},
   "outputs": [
    {
     "name": "stdout",
     "output_type": "stream",
     "text": [
      "                                                desc  \\\n",
      "0  Sanjay Raut a member of the Shiv Sena UBT part...   \n",
      "1  Kozhikode Kerala India October 27 ANI Pointing...   \n",
      "2  Mumbai Oct 24 PTI Maharashtra Chief Minister E...   \n",
      "3  Sensex Nifty rebound over 1 pc after six sessi...   \n",
      "4  October 26 2023 0815 pm Updated 0838 pm IST Ko...   \n",
      "\n",
      "                              date  \\\n",
      "0 2023-10-27 13:12:18.339000+00:00   \n",
      "1 2023-10-27 13:12:45.595000+00:00   \n",
      "2 2023-10-27 13:12:18.339000+00:00   \n",
      "3 2023-10-27 13:12:41.618000+00:00   \n",
      "4 2023-10-27 13:12:45.595000+00:00   \n",
      "\n",
      "                                               title  \n",
      "0  Shiv Sena MP Sanjay Raut Responds To Hamas Rem...  \n",
      "1  At IUMLs proPalestine rally in Kerala Tharoor ...  \n",
      "2  Uddhav buried Bal Thackerays Hindutva for powe...  \n",
      "3  New Bills replacing IPC CrPC Evidence Act will...  \n",
      "4  Israel biggest terrorist nation in the world s...  \n"
     ]
    }
   ],
   "source": [
    "# Filter events related to Israel-Hamas conflict\n",
    "israel_hamas_keywords = ['Israel', 'Hamas', 'Gaza', 'Palestine', 'IDF']\n",
    "israel_hamas_events = df[df['desc'].str.contains('|'.join(israel_hamas_keywords), case=False) |\n",
    "                         df['title'].str.contains('|'.join(israel_hamas_keywords), case=False)]\n",
    "\n",
    "# Display the first few rows of the filtered DataFrame\n",
    "print(israel_hamas_events.head())"
   ]
  },
  {
   "cell_type": "code",
   "execution_count": 26,
   "id": "ff89c734-96ee-4ad0-9db4-8460562d45e9",
   "metadata": {},
   "outputs": [
    {
     "data": {
      "text/plain": [
       "(31739, 3)"
      ]
     },
     "execution_count": 26,
     "metadata": {},
     "output_type": "execute_result"
    }
   ],
   "source": [
    "israel_hamas_events.shape"
   ]
  },
  {
   "cell_type": "code",
   "execution_count": 27,
   "id": "18251317-c72a-4251-ba15-097863c21fcf",
   "metadata": {},
   "outputs": [],
   "source": [
    "import spacy"
   ]
  },
  {
   "cell_type": "code",
   "execution_count": 28,
   "id": "96cc36c6-6177-4f0e-a242-6c92dc0e2291",
   "metadata": {},
   "outputs": [],
   "source": [
    "# Load the SpaCy language model\n",
    "nlp = spacy.load('en_core_web_lg')"
   ]
  },
  {
   "cell_type": "code",
   "execution_count": 29,
   "id": "8e9b01e8-2314-43aa-ade7-4ff716b2191d",
   "metadata": {},
   "outputs": [
    {
     "name": "stderr",
     "output_type": "stream",
     "text": [
      "100%|████████████████████| 31739/31739 [10:46<00:00, 49.11it/s]\n"
     ]
    }
   ],
   "source": [
    "# Initialize dictionary to store sentence vectors\n",
    "sent_vecs = {}\n",
    "docs = []\n",
    "\n",
    "# Generate sentence vectors for the filtered article titles\n",
    "for title in tqdm(israel_hamas_events.title):\n",
    "    doc = nlp(title)\n",
    "    docs.append(doc)\n",
    "    sent_vecs.update({title: doc.vector})\n",
    "\n",
    "# Extract sentences and vectors for further processing\n",
    "sentences = list(sent_vecs.keys())\n",
    "vectors = list(sent_vecs.values())"
   ]
  },
  {
   "cell_type": "code",
   "execution_count": 30,
   "id": "9019931d-7f94-46e7-838c-9c6153e1a339",
   "metadata": {},
   "outputs": [],
   "source": [
    "import numpy as np\n",
    "from sklearn.cluster import DBSCAN\n",
    "from sklearn.metrics import pairwise_distances_argmin_min"
   ]
  },
  {
   "cell_type": "code",
   "execution_count": 31,
   "id": "f13ee4fd-89dc-471d-a1de-82f4a1df5141",
   "metadata": {},
   "outputs": [],
   "source": [
    "# Define the helper functions\n",
    "def get_mean_vector(sents):\n",
    "    a = np.zeros(300)\n",
    "    for sent in sents:\n",
    "        a += nlp(sent).vector\n",
    "    return a / len(sents)\n",
    "\n",
    "def get_central_vector(sents):\n",
    "    vecs = []\n",
    "    for sent in sents:\n",
    "        doc = nlp(sent)\n",
    "        vecs.append(doc.vector)\n",
    "    mean_vec = get_mean_vector(sents)\n",
    "    index = pairwise_distances_argmin_min(np.array([mean_vec]), vecs)[0][0]\n",
    "    return sents[index]"
   ]
  },
  {
   "cell_type": "code",
   "execution_count": 32,
   "id": "831012a8-e09b-43ba-b941-8650e2cf3286",
   "metadata": {},
   "outputs": [
    {
     "name": "stderr",
     "output_type": "stream",
     "text": [
      "100%|██████████████████████████████████████████████████████████████████████████████████████████| 500/500 [10:01:06<00:00, 72.13s/it]\n"
     ]
    }
   ],
   "source": [
    "x = np.array(vectors)\n",
    "n_classes = {}\n",
    "eps_values = np.arange(0.001, 1, 0.002)\n",
    "for i in tqdm(eps_values):\n",
    "    dbscan = DBSCAN(eps=i, min_samples=2, metric='cosine').fit(x)\n",
    "    n_classes.update({i: len(pd.Series(dbscan.labels_).value_counts())})"
   ]
  },
  {
   "cell_type": "code",
   "execution_count": 85,
   "id": "e6b0176b-a31a-4f86-81b4-ee99d9a8aa54",
   "metadata": {},
   "outputs": [
    {
     "data": {
      "image/png": "[encoded data removed]",
      "text/plain": [
       "<Figure size 300x300 with 1 Axes>"
      ]
     },
     "metadata": {},
     "output_type": "display_data"
    }
   ],
   "source": [
    "# Plot the number of clusters as a function of eps\n",
    "import matplotlib.pyplot as plt\n",
    "\n",
    "plt.figure(figsize=(3, 3))\n",
    "plt.plot(list(n_classes.keys()), list(n_classes.values()), marker='o')\n",
    "plt.xlabel('Eps Value')\n",
    "plt.ylabel('Number of Clusters')\n",
    "plt.title('DBSCAN: Number of Clusters vs Eps Value')\n",
    "plt.grid(True)\n",
    "plt.show()"
   ]
  },
  {
   "cell_type": "code",
   "execution_count": 35,
   "id": "b1eeffe8-200e-43df-9084-c4003a34d53f",
   "metadata": {},
   "outputs": [],
   "source": [
    "# Choose an eps value based on the plot (e.g., 0.08 based on prior knowledge)\n",
    "optimal_eps = 0.08\n",
    "dbscan = DBSCAN(eps=optimal_eps, min_samples=2, metric='cosine').fit(x)"
   ]
  },
  {
   "cell_type": "code",
   "execution_count": 37,
   "id": "8941738b-d82c-4d0b-bb10-d40e68c0476a",
   "metadata": {},
   "outputs": [],
   "source": [
    "# Create a DataFrame with the clustering results\n",
    "results = pd.DataFrame({'label': dbscan.labels_, 'sent': sentences})"
   ]
  },
  {
   "cell_type": "code",
   "execution_count": 63,
   "id": "3ca21357-8824-43dd-bb68-5c8f3cc7feb7",
   "metadata": {},
   "outputs": [],
   "source": [
    "# Extract events using the central vector for each cluster\n",
    "event_sents = []\n",
    "for label in set(results['label']):\n",
    "    if label == -1:\n",
    "        continue  # Skip noise\n",
    "    cluster_sents = results[results.label == label].sent.tolist()\n",
    "    central_sent = get_central_vector(cluster_sents)\n",
    "    event_sents.append(central_sent)"
   ]
  },
  {
   "cell_type": "code",
   "execution_count": 64,
   "id": "24deb859-4dfe-41c5-a55f-418c84b0f72a",
   "metadata": {},
   "outputs": [
    {
     "name": "stdout",
     "output_type": "stream",
     "text": [
      "                                 date  \\\n",
      "86   2023-10-27 13:16:01.883000+00:00   \n",
      "188  2023-10-27 13:16:24.650000+00:00   \n",
      "627  2023-10-27 13:17:56.759000+00:00   \n",
      "1486 2023-10-27 13:32:02.245000+00:00   \n",
      "2712 2023-12-03 06:02:56.487000+00:00   \n",
      "\n",
      "                                                  title  \n",
      "86    Gaza EU stops short of calling for ceasefire a...  \n",
      "188   Release of hostages needs ceasefire Hamas offi...  \n",
      "627   Hamas Battalion Leader Killed By IDF Airstrike...  \n",
      "1486  Israel vows again to destroy Hamas rejecting c...  \n",
      "2712  Hamas Reneged On Commitments Blinken On Why Ga...  \n"
     ]
    }
   ],
   "source": [
    "israel_hamas_keywords = ['israel', 'hamas', 'gaza', 'idf', 'palestine']  # Adjust these keywords as necessary\n",
    "important_phrases = ['airstrike', 'ceasefire', 'major attack', 'peace talks', 'UN resolution', 'military operation', 'significant escalation', 'diplomatic efforts']\n",
    "\n",
    "# Generate the event DataFrame using the titles of the clustered sentences\n",
    "event_df = df[df['title'].isin(event_sents)][['date', 'title']]\n",
    "event_df['date'] = pd.to_datetime(event_df['date'])\n",
    "event_df = event_df.sort_values(by='date').dropna()\n",
    "\n",
    "# Filter event_df based on the keywords\n",
    "event_df = event_df[event_df['title'].str.contains('|'.join(israel_hamas_keywords), case=False)]\n",
    "\n",
    "# Filter event_df based on the important phrases\n",
    "important_events_df = event_df[event_df['title'].str.contains('|'.join(important_phrases), case=False)]\n",
    "\n",
    "# Ensure that important_events_df contains only 10 events\n",
    "important_events_df = important_events_df.head(10)\n",
    "\n",
    "# Display the final important events DataFrame\n",
    "print(important_events_df)"
   ]
  },
  {
   "cell_type": "code",
   "execution_count": 68,
   "id": "fe3be910-4300-4a64-9a56-62d25e1039ec",
   "metadata": {},
   "outputs": [
    {
     "data": {
      "text/html": [
       "<div>\n",
       "<style scoped>\n",
       "    .dataframe tbody tr th:only-of-type {\n",
       "        vertical-align: middle;\n",
       "    }\n",
       "\n",
       "    .dataframe tbody tr th {\n",
       "        vertical-align: top;\n",
       "    }\n",
       "\n",
       "    .dataframe thead th {\n",
       "        text-align: right;\n",
       "    }\n",
       "</style>\n",
       "<table border=\"1\" class=\"dataframe\">\n",
       "  <thead>\n",
       "    <tr style=\"text-align: right;\">\n",
       "      <th></th>\n",
       "      <th>date</th>\n",
       "      <th>title</th>\n",
       "    </tr>\n",
       "  </thead>\n",
       "  <tbody>\n",
       "    <tr>\n",
       "      <th>0</th>\n",
       "      <td>2023-10-27 13:16:01.883000+00:00</td>\n",
       "      <td>Gaza EU stops short of calling for ceasefire a...</td>\n",
       "    </tr>\n",
       "    <tr>\n",
       "      <th>1</th>\n",
       "      <td>2023-10-27 13:16:24.650000+00:00</td>\n",
       "      <td>Release of hostages needs ceasefire Hamas offi...</td>\n",
       "    </tr>\n",
       "    <tr>\n",
       "      <th>2</th>\n",
       "      <td>2023-10-27 13:17:56.759000+00:00</td>\n",
       "      <td>Hamas Battalion Leader Killed By IDF Airstrike...</td>\n",
       "    </tr>\n",
       "    <tr>\n",
       "      <th>3</th>\n",
       "      <td>2023-10-27 13:32:02.245000+00:00</td>\n",
       "      <td>Israel vows again to destroy Hamas rejecting c...</td>\n",
       "    </tr>\n",
       "    <tr>\n",
       "      <th>4</th>\n",
       "      <td>2023-12-03 06:02:56.487000+00:00</td>\n",
       "      <td>Hamas Reneged On Commitments Blinken On Why Ga...</td>\n",
       "    </tr>\n",
       "    <tr>\n",
       "      <th>5</th>\n",
       "      <td>2023-12-03 06:02:56.487000+00:00</td>\n",
       "      <td>Israel resumes Gaza military operation after c...</td>\n",
       "    </tr>\n",
       "    <tr>\n",
       "      <th>6</th>\n",
       "      <td>2023-12-03 14:02:02.606000+00:00</td>\n",
       "      <td>Israeli airstrike hit Damascus airport and put...</td>\n",
       "    </tr>\n",
       "    <tr>\n",
       "      <th>7</th>\n",
       "      <td>2023-12-03 14:03:50.874000+00:00</td>\n",
       "      <td>IsraelHamas Ceasefire Deal Will Do Everything ...</td>\n",
       "    </tr>\n",
       "    <tr>\n",
       "      <th>8</th>\n",
       "      <td>2023-12-03 16:05:19.517000+00:00</td>\n",
       "      <td>Iran Demands End To Israeli Crimes Calls For P...</td>\n",
       "    </tr>\n",
       "    <tr>\n",
       "      <th>9</th>\n",
       "      <td>2023-12-03 20:04:05.583000+00:00</td>\n",
       "      <td>war to continue till Hamas are crushed as 5 na...</td>\n",
       "    </tr>\n",
       "  </tbody>\n",
       "</table>\n",
       "</div>"
      ],
      "text/plain": [
       "                              date  \\\n",
       "0 2023-10-27 13:16:01.883000+00:00   \n",
       "1 2023-10-27 13:16:24.650000+00:00   \n",
       "2 2023-10-27 13:17:56.759000+00:00   \n",
       "3 2023-10-27 13:32:02.245000+00:00   \n",
       "4 2023-12-03 06:02:56.487000+00:00   \n",
       "5 2023-12-03 06:02:56.487000+00:00   \n",
       "6 2023-12-03 14:02:02.606000+00:00   \n",
       "7 2023-12-03 14:03:50.874000+00:00   \n",
       "8 2023-12-03 16:05:19.517000+00:00   \n",
       "9 2023-12-03 20:04:05.583000+00:00   \n",
       "\n",
       "                                               title  \n",
       "0  Gaza EU stops short of calling for ceasefire a...  \n",
       "1  Release of hostages needs ceasefire Hamas offi...  \n",
       "2  Hamas Battalion Leader Killed By IDF Airstrike...  \n",
       "3  Israel vows again to destroy Hamas rejecting c...  \n",
       "4  Hamas Reneged On Commitments Blinken On Why Ga...  \n",
       "5  Israel resumes Gaza military operation after c...  \n",
       "6  Israeli airstrike hit Damascus airport and put...  \n",
       "7  IsraelHamas Ceasefire Deal Will Do Everything ...  \n",
       "8  Iran Demands End To Israeli Crimes Calls For P...  \n",
       "9  war to continue till Hamas are crushed as 5 na...  "
      ]
     },
     "execution_count": 68,
     "metadata": {},
     "output_type": "execute_result"
    }
   ],
   "source": [
    "important_events_df.head(10)"
   ]
  },
  {
   "cell_type": "code",
   "execution_count": 70,
   "id": "a8b9e415-fd34-4be1-98b2-50c618e6b58d",
   "metadata": {},
   "outputs": [
    {
     "data": {
      "text/plain": [
       "(79, 2)"
      ]
     },
     "execution_count": 70,
     "metadata": {},
     "output_type": "execute_result"
    }
   ],
   "source": [
    "important_events_df.shape"
   ]
  },
  {
   "cell_type": "code",
   "execution_count": 81,
   "id": "364eb8d9-421f-4a43-8a94-9a985f9b056a",
   "metadata": {},
   "outputs": [
    {
     "data": {
      "application/vnd.plotly.v1+json": {
       "config": {
        "plotlyServerURL": "https://plot.ly"
       },
       "data": [
        {
         "hoverinfo": "text",
         "marker": {
          "opacity": 0.7,
          "size": 10
         },
         "mode": "markers+text",
         "name": "Gaza EU stops short of calling for ceasefire ahead of UN vote as crisis escalates",
         "text": [
          "1. Gaza EU stops short of calling for ceasefire ahead of UN vote as crisis escalates"
         ],
         "textposition": "top center",
         "type": "scatter",
         "x": [
          "2023-10-27T13:16:01.883000+00:00"
         ],
         "y": [
          0
         ]
        },
        {
         "hoverinfo": "text",
         "marker": {
          "opacity": 0.7,
          "size": 10
         },
         "mode": "markers+text",
         "name": "Release of hostages needs ceasefire Hamas official says",
         "text": [
          "2. Release of hostages needs ceasefire Hamas official says"
         ],
         "textposition": "top center",
         "type": "scatter",
         "x": [
          "2023-10-27T13:16:24.650000+00:00"
         ],
         "y": [
          1
         ]
        },
        {
         "hoverinfo": "text",
         "marker": {
          "opacity": 0.7,
          "size": 10
         },
         "mode": "markers+text",
         "name": "Hamas Battalion Leader Killed By IDF Airstrike In Gaza Israel Claims",
         "text": [
          "3. Hamas Battalion Leader Killed By IDF Airstrike In Gaza Israel Claims"
         ],
         "textposition": "top center",
         "type": "scatter",
         "x": [
          "2023-10-27T13:17:56.759000+00:00"
         ],
         "y": [
          2
         ]
        },
        {
         "hoverinfo": "text",
         "marker": {
          "opacity": 0.7,
          "size": 10
         },
         "mode": "markers+text",
         "name": "Israel vows again to destroy Hamas rejecting calls for a ceasefire in Gaza at a major UN meeting",
         "text": [
          "4. Israel vows again to destroy Hamas rejecting calls for a ceasefire in Gaza at a major UN meeting"
         ],
         "textposition": "top center",
         "type": "scatter",
         "x": [
          "2023-10-27T13:32:02.245000+00:00"
         ],
         "y": [
          3
         ]
        },
        {
         "hoverinfo": "text",
         "marker": {
          "opacity": 0.7,
          "size": 10
         },
         "mode": "markers+text",
         "name": "Hamas Reneged On Commitments Blinken On Why Gaza Ceasefire Ended",
         "text": [
          "5. Hamas Reneged On Commitments Blinken On Why Gaza Ceasefire Ended"
         ],
         "textposition": "top center",
         "type": "scatter",
         "x": [
          "2023-12-03T06:02:56.487000+00:00"
         ],
         "y": [
          4
         ]
        },
        {
         "hoverinfo": "text",
         "marker": {
          "opacity": 0.7,
          "size": 10
         },
         "mode": "markers+text",
         "name": "Israel resumes Gaza military operation after ceasefire with Hamas ends",
         "text": [
          "6. Israel resumes Gaza military operation after ceasefire with Hamas ends"
         ],
         "textposition": "top center",
         "type": "scatter",
         "x": [
          "2023-12-03T06:02:56.487000+00:00"
         ],
         "y": [
          5
         ]
        },
        {
         "hoverinfo": "text",
         "marker": {
          "opacity": 0.7,
          "size": 10
         },
         "mode": "markers+text",
         "name": "Israeli airstrike hit Damascus airport and put it out of service Syria",
         "text": [
          "7. Israeli airstrike hit Damascus airport and put it out of service Syria"
         ],
         "textposition": "top center",
         "type": "scatter",
         "x": [
          "2023-12-03T14:02:02.606000+00:00"
         ],
         "y": [
          6
         ]
        },
        {
         "hoverinfo": "text",
         "marker": {
          "opacity": 0.7,
          "size": 10
         },
         "mode": "markers+text",
         "name": "IsraelHamas Ceasefire Deal Will Do Everything To Bring Back Other Hostages Says Israeli Hostages and Missing Families Forum",
         "text": [
          "8. IsraelHamas Ceasefire Deal Will Do Everything To Bring Back Other Hostages Says Israeli Hostages and Missing Families Forum"
         ],
         "textposition": "top center",
         "type": "scatter",
         "x": [
          "2023-12-03T14:03:50.874000+00:00"
         ],
         "y": [
          7
         ]
        },
        {
         "hoverinfo": "text",
         "marker": {
          "opacity": 0.7,
          "size": 10
         },
         "mode": "markers+text",
         "name": "Iran Demands End To Israeli Crimes Calls For Permanent Ceasefire In Gaza",
         "text": [
          "9. Iran Demands End To Israeli Crimes Calls For Permanent Ceasefire In Gaza"
         ],
         "textposition": "top center",
         "type": "scatter",
         "x": [
          "2023-12-03T16:05:19.517000+00:00"
         ],
         "y": [
          8
         ]
        },
        {
         "hoverinfo": "text",
         "marker": {
          "opacity": 0.7,
          "size": 10
         },
         "mode": "markers+text",
         "name": "war to continue till Hamas are crushed as 5 nations work on ceasefire extension Netanyahu",
         "text": [
          "10. war to continue till Hamas are crushed as 5 nations work on ceasefire extension Netanyahu"
         ],
         "textposition": "top center",
         "type": "scatter",
         "x": [
          "2023-12-03T20:04:05.583000+00:00"
         ],
         "y": [
          9
         ]
        },
        {
         "hoverinfo": "text",
         "marker": {
          "opacity": 0.7,
          "size": 10
         },
         "mode": "markers+text",
         "name": "Rocket fired from within Gaza as ceasefire draws to an end",
         "text": [
          "11. Rocket fired from within Gaza as ceasefire draws to an end"
         ],
         "textposition": "top center",
         "type": "scatter",
         "x": [
          "2023-12-03T22:03:58.830000+00:00"
         ],
         "y": [
          10
         ]
        },
        {
         "hoverinfo": "text",
         "marker": {
          "opacity": 0.7,
          "size": 10
         },
         "mode": "markers+text",
         "name": "Israel presses southern Gaza after collapse of Hamas ceasefire",
         "text": [
          "12. Israel presses southern Gaza after collapse of Hamas ceasefire"
         ],
         "textposition": "top center",
         "type": "scatter",
         "x": [
          "2023-12-03T22:06:09.068000+00:00"
         ],
         "y": [
          11
         ]
        },
        {
         "hoverinfo": "text",
         "marker": {
          "opacity": 0.7,
          "size": 10
         },
         "mode": "markers+text",
         "name": "No prisoner exchange with Israel until there is ceasefire in Gaza says Hamas",
         "text": [
          "13. No prisoner exchange with Israel until there is ceasefire in Gaza says Hamas"
         ],
         "textposition": "top center",
         "type": "scatter",
         "x": [
          "2023-12-04T04:04:54.064000+00:00"
         ],
         "y": [
          12
         ]
        },
        {
         "hoverinfo": "text",
         "marker": {
          "opacity": 0.7,
          "size": 10
         },
         "mode": "markers+text",
         "name": "Israel resumes Gaza offensive ending ceasefire blames Hamas for violating deal",
         "text": [
          "14. Israel resumes Gaza offensive ending ceasefire blames Hamas for violating deal"
         ],
         "textposition": "top center",
         "type": "scatter",
         "x": [
          "2023-12-04T04:06:03.485000+00:00"
         ],
         "y": [
          13
         ]
        },
        {
         "hoverinfo": "text",
         "marker": {
          "opacity": 0.7,
          "size": 10
         },
         "mode": "markers+text",
         "name": "Live updates IsraelHamas war Gaza airstrikes Qatar ceasefire calls",
         "text": [
          "15. Live updates IsraelHamas war Gaza airstrikes Qatar ceasefire calls"
         ],
         "textposition": "top center",
         "type": "scatter",
         "x": [
          "2023-12-04T06:03:27.018000+00:00"
         ],
         "y": [
          14
         ]
        },
        {
         "hoverinfo": "text",
         "marker": {
          "opacity": 0.7,
          "size": 10
         },
         "mode": "markers+text",
         "name": "Pope deplores end of IsraelHamas truce voices hope for new ceasefire",
         "text": [
          "16. Pope deplores end of IsraelHamas truce voices hope for new ceasefire"
         ],
         "textposition": "top center",
         "type": "scatter",
         "x": [
          "2023-12-04T08:00:57.163000+00:00"
         ],
         "y": [
          15
         ]
        },
        {
         "hoverinfo": "text",
         "marker": {
          "opacity": 0.7,
          "size": 10
         },
         "mode": "markers+text",
         "name": "IsraelHamas war resumes after weeklong ceasefire Evaluating hopes against realities",
         "text": [
          "17. IsraelHamas war resumes after weeklong ceasefire Evaluating hopes against realities"
         ],
         "textposition": "top center",
         "type": "scatter",
         "x": [
          "2023-12-04T16:03:06.260000+00:00"
         ],
         "y": [
          16
         ]
        },
        {
         "hoverinfo": "text",
         "marker": {
          "opacity": 0.7,
          "size": 10
         },
         "mode": "markers+text",
         "name": "Qatar emir condemns genocide in Gaza urges ceasefire at GCC summit",
         "text": [
          "18. Qatar emir condemns genocide in Gaza urges ceasefire at GCC summit"
         ],
         "textposition": "top center",
         "type": "scatter",
         "x": [
          "2023-12-05T14:00:53.488000+00:00"
         ],
         "y": [
          17
         ]
        },
        {
         "hoverinfo": "text",
         "marker": {
          "opacity": 0.7,
          "size": 10
         },
         "mode": "markers+text",
         "name": "Israel faces mounting calls for new ceasefire in war with Hamas from UN and Israeli hostage families",
         "text": [
          "19. Israel faces mounting calls for new ceasefire in war with Hamas from UN and Israeli hostage families"
         ],
         "textposition": "top center",
         "type": "scatter",
         "x": [
          "2023-12-06T16:05:07.916000+00:00"
         ],
         "y": [
          18
         ]
        },
        {
         "hoverinfo": "text",
         "marker": {
          "opacity": 0.7,
          "size": 10
         },
         "mode": "markers+text",
         "name": "Several students wounded in southern Lebanon after an Israeli airstrike",
         "text": [
          "20. Several students wounded in southern Lebanon after an Israeli airstrike"
         ],
         "textposition": "top center",
         "type": "scatter",
         "x": [
          "2023-12-07T22:05:00.796000+00:00"
         ],
         "y": [
          19
         ]
        },
        {
         "hoverinfo": "text",
         "marker": {
          "opacity": 0.7,
          "size": 10
         },
         "mode": "markers+text",
         "name": "World should make immediate Gaza ceasefire a priority regional foreign ministers",
         "text": [
          "21. World should make immediate Gaza ceasefire a priority regional foreign ministers"
         ],
         "textposition": "top center",
         "type": "scatter",
         "x": [
          "2023-12-08T20:06:01.404000+00:00"
         ],
         "y": [
          20
         ]
        },
        {
         "hoverinfo": "text",
         "marker": {
          "opacity": 0.7,
          "size": 10
         },
         "mode": "markers+text",
         "name": "Live Updates US vetos Gaza ceasefire resolution as EU sanctions more Hamas commanders",
         "text": [
          "22. Live Updates US vetos Gaza ceasefire resolution as EU sanctions more Hamas commanders"
         ],
         "textposition": "top center",
         "type": "scatter",
         "x": [
          "2023-12-08T22:02:18.101000+00:00"
         ],
         "y": [
          21
         ]
        },
        {
         "hoverinfo": "text",
         "marker": {
          "opacity": 0.7,
          "size": 10
         },
         "mode": "markers+text",
         "name": "Divorced From Reality US Vetoes UN Resolution On Gaza Ceasefire",
         "text": [
          "23. Divorced From Reality US Vetoes UN Resolution On Gaza Ceasefire"
         ],
         "textposition": "top center",
         "type": "scatter",
         "x": [
          "2023-12-09T04:05:54.368000+00:00"
         ],
         "y": [
          22
         ]
        },
        {
         "hoverinfo": "text",
         "marker": {
          "opacity": 0.7,
          "size": 10
         },
         "mode": "markers+text",
         "name": "Iran Warns Of Uncontrollable Explosion In Middle East After US Vetoes Gaza Ceasefire Bid",
         "text": [
          "24. Iran Warns Of Uncontrollable Explosion In Middle East After US Vetoes Gaza Ceasefire Bid"
         ],
         "textposition": "top center",
         "type": "scatter",
         "x": [
          "2023-12-09T14:07:31.469000+00:00"
         ],
         "y": [
          23
         ]
        },
        {
         "hoverinfo": "text",
         "marker": {
          "opacity": 0.7,
          "size": 10
         },
         "mode": "markers+text",
         "name": "The clock is ticking for Israel despite UN failing to agree on ceasefire resolution",
         "text": [
          "25. The clock is ticking for Israel despite UN failing to agree on ceasefire resolution"
         ],
         "textposition": "top center",
         "type": "scatter",
         "x": [
          "2023-12-09T20:06:18.025000+00:00"
         ],
         "y": [
          24
         ]
        },
        {
         "hoverinfo": "text",
         "marker": {
          "opacity": 0.7,
          "size": 10
         },
         "mode": "markers+text",
         "name": "Israeli PM voices dissatisfaction to Putin over UN vote in favour of Gaza ceasefire",
         "text": [
          "26. Israeli PM voices dissatisfaction to Putin over UN vote in favour of Gaza ceasefire"
         ],
         "textposition": "top center",
         "type": "scatter",
         "x": [
          "2023-12-10T16:01:23.679000+00:00"
         ],
         "y": [
          25
         ]
        },
        {
         "hoverinfo": "text",
         "marker": {
          "opacity": 0.7,
          "size": 10
         },
         "mode": "markers+text",
         "name": "UN General Assembly To Vote Tomorrow On Resolution Seeking Gaza Ceasefire What We Know",
         "text": [
          "27. UN General Assembly To Vote Tomorrow On Resolution Seeking Gaza Ceasefire What We Know"
         ],
         "textposition": "top center",
         "type": "scatter",
         "x": [
          "2023-12-11T06:05:32.369000+00:00"
         ],
         "y": [
          26
         ]
        },
        {
         "hoverinfo": "text",
         "marker": {
          "opacity": 0.7,
          "size": 10
         },
         "mode": "markers+text",
         "name": "UN chief Antonio Guterres says he will not give up appeals for ceasefire in Gaza",
         "text": [
          "28. UN chief Antonio Guterres says he will not give up appeals for ceasefire in Gaza"
         ],
         "textposition": "top center",
         "type": "scatter",
         "x": [
          "2023-12-11T10:05:49.448000+00:00"
         ],
         "y": [
          27
         ]
        },
        {
         "hoverinfo": "text",
         "marker": {
          "opacity": 0.7,
          "size": 10
         },
         "mode": "markers+text",
         "name": "Israel says war in Gaza could go on for months despite international calls for a ceasefire",
         "text": [
          "29. Israel says war in Gaza could go on for months despite international calls for a ceasefire"
         ],
         "textposition": "top center",
         "type": "scatter",
         "x": [
          "2023-12-13T02:05:54.532000+00:00"
         ],
         "y": [
          28
         ]
        },
        {
         "hoverinfo": "text",
         "marker": {
          "opacity": 0.7,
          "size": 10
         },
         "mode": "markers+text",
         "name": "Australia Canada New Zealand back sustainable ceasefire in Gaza",
         "text": [
          "30. Australia Canada New Zealand back sustainable ceasefire in Gaza"
         ],
         "textposition": "top center",
         "type": "scatter",
         "x": [
          "2023-12-13T02:07:41.875000+00:00"
         ],
         "y": [
          29
         ]
        },
        {
         "hoverinfo": "text",
         "marker": {
          "opacity": 0.7,
          "size": 10
         },
         "mode": "markers+text",
         "name": "India favours UNGAs call for Gaza ceasefire IsraelUS divided over casualties Top points",
         "text": [
          "31. India favours UNGAs call for Gaza ceasefire IsraelUS divided over casualties Top points"
         ],
         "textposition": "top center",
         "type": "scatter",
         "x": [
          "2023-12-13T06:00:42.595000+00:00"
         ],
         "y": [
          30
         ]
        },
        {
         "hoverinfo": "text",
         "marker": {
          "opacity": 0.7,
          "size": 10
         },
         "mode": "markers+text",
         "name": "Liberal caucus meets after Canada votes for IsraelHamas ceasefire at UN",
         "text": [
          "32. Liberal caucus meets after Canada votes for IsraelHamas ceasefire at UN"
         ],
         "textposition": "top center",
         "type": "scatter",
         "x": [
          "2023-12-14T00:08:14.227000+00:00"
         ],
         "y": [
          31
         ]
        },
        {
         "hoverinfo": "text",
         "marker": {
          "opacity": 0.7,
          "size": 10
         },
         "mode": "markers+text",
         "name": "EU leaders increasingly back a humanitarian ceasefire in Gaza",
         "text": [
          "33. EU leaders increasingly back a humanitarian ceasefire in Gaza"
         ],
         "textposition": "top center",
         "type": "scatter",
         "x": [
          "2023-12-14T20:05:22.839000+00:00"
         ],
         "y": [
          32
         ]
        },
        {
         "hoverinfo": "text",
         "marker": {
          "opacity": 0.7,
          "size": 10
         },
         "mode": "markers+text",
         "name": "Israel Vows To Press Harder In Its War With Hamas After US Vetoes Gaza Ceasefire Bid",
         "text": [
          "34. Israel Vows To Press Harder In Its War With Hamas After US Vetoes Gaza Ceasefire Bid"
         ],
         "textposition": "top center",
         "type": "scatter",
         "x": [
          "2023-12-15T14:05:13.441000+00:00"
         ],
         "y": [
          33
         ]
        },
        {
         "hoverinfo": "text",
         "marker": {
          "opacity": 0.7,
          "size": 10
         },
         "mode": "markers+text",
         "name": "IsraelGaza war UK and Germany call for sustainable ceasefire",
         "text": [
          "35. IsraelGaza war UK and Germany call for sustainable ceasefire"
         ],
         "textposition": "top center",
         "type": "scatter",
         "x": [
          "2023-12-17T02:06:25.529000+00:00"
         ],
         "y": [
          34
         ]
        },
        {
         "hoverinfo": "text",
         "marker": {
          "opacity": 0.7,
          "size": 10
         },
         "mode": "markers+text",
         "name": "David Cameron defends UKs decision not to vote for UN resolution demanding ceasefire in Gaza as it happened",
         "text": [
          "36. David Cameron defends UKs decision not to vote for UN resolution demanding ceasefire in Gaza as it happened"
         ],
         "textposition": "top center",
         "type": "scatter",
         "x": [
          "2023-12-17T16:07:18.909000+00:00"
         ],
         "y": [
          35
         ]
        },
        {
         "hoverinfo": "text",
         "marker": {
          "opacity": 0.7,
          "size": 10
         },
         "mode": "markers+text",
         "name": "UK and Germany call for sustainable ceasefire in Gaza",
         "text": [
          "37. UK and Germany call for sustainable ceasefire in Gaza"
         ],
         "textposition": "top center",
         "type": "scatter",
         "x": [
          "2023-12-17T16:07:18.911000+00:00"
         ],
         "y": [
          36
         ]
        },
        {
         "hoverinfo": "text",
         "marker": {
          "opacity": 0.7,
          "size": 10
         },
         "mode": "markers+text",
         "name": "European diplomacy steps up calls for Gaza ceasefire",
         "text": [
          "38. European diplomacy steps up calls for Gaza ceasefire"
         ],
         "textposition": "top center",
         "type": "scatter",
         "x": [
          "2023-12-17T16:07:18.912000+00:00"
         ],
         "y": [
          37
         ]
        },
        {
         "hoverinfo": "text",
         "marker": {
          "opacity": 0.7,
          "size": 10
         },
         "mode": "markers+text",
         "name": "Egyptian sources say Israel Hamas open to ceasefire disagreements remain",
         "text": [
          "39. Egyptian sources say Israel Hamas open to ceasefire disagreements remain"
         ],
         "textposition": "top center",
         "type": "scatter",
         "x": [
          "2023-12-18T04:07:01.089000+00:00"
         ],
         "y": [
          38
         ]
        },
        {
         "hoverinfo": "text",
         "marker": {
          "opacity": 0.7,
          "size": 10
         },
         "mode": "markers+text",
         "name": "UN Security Council To Vote On New Call For Urgent Ceasefire In Gaza",
         "text": [
          "40. UN Security Council To Vote On New Call For Urgent Ceasefire In Gaza"
         ],
         "textposition": "top center",
         "type": "scatter",
         "x": [
          "2023-12-18T04:07:36.662000+00:00"
         ],
         "y": [
          39
         ]
        },
        {
         "hoverinfo": "text",
         "marker": {
          "opacity": 0.7,
          "size": 10
         },
         "mode": "markers+text",
         "name": "Israel strikes Gaza as pressure grows for ceasefire",
         "text": [
          "41. Israel strikes Gaza as pressure grows for ceasefire"
         ],
         "textposition": "top center",
         "type": "scatter",
         "x": [
          "2023-12-18T06:05:16.659000+00:00"
         ],
         "y": [
          40
         ]
        },
        {
         "hoverinfo": "text",
         "marker": {
          "opacity": 0.7,
          "size": 10
         },
         "mode": "markers+text",
         "name": "IsraelGaza war latest Hostages killed by IDF used food to create SOS sign Israel and Hamas open to another temporary ceasefire",
         "text": [
          "42. IsraelGaza war latest Hostages killed by IDF used food to create SOS sign Israel and Hamas open to another temporary ceasefire"
         ],
         "textposition": "top center",
         "type": "scatter",
         "x": [
          "2023-12-18T06:07:07.056000+00:00"
         ],
         "y": [
          41
         ]
        },
        {
         "hoverinfo": "text",
         "marker": {
          "opacity": 0.7,
          "size": 10
         },
         "mode": "markers+text",
         "name": "IsraelPalestine conflict India votes for UNGA resolution for Gaza ceasefire",
         "text": [
          "43. IsraelPalestine conflict India votes for UNGA resolution for Gaza ceasefire"
         ],
         "textposition": "top center",
         "type": "scatter",
         "x": [
          "2023-12-18T08:07:45.259000+00:00"
         ],
         "y": [
          42
         ]
        },
        {
         "hoverinfo": "text",
         "marker": {
          "opacity": 0.7,
          "size": 10
         },
         "mode": "markers+text",
         "name": "Civilians make up 61 of Gaza deaths from airstrikes Israeli study finds",
         "text": [
          "44. Civilians make up 61 of Gaza deaths from airstrikes Israeli study finds"
         ],
         "textposition": "top center",
         "type": "scatter",
         "x": [
          "2023-12-18T12:02:19.987000+00:00"
         ],
         "y": [
          43
         ]
        },
        {
         "hoverinfo": "text",
         "marker": {
          "opacity": 0.7,
          "size": 10
         },
         "mode": "markers+text",
         "name": "Only US stands between massacre and ceasefire in Gaza Turkish FM Fidan",
         "text": [
          "45. Only US stands between massacre and ceasefire in Gaza Turkish FM Fidan"
         ],
         "textposition": "top center",
         "type": "scatter",
         "x": [
          "2023-12-19T10:08:27.986000+00:00"
         ],
         "y": [
          44
         ]
        },
        {
         "hoverinfo": "text",
         "marker": {
          "opacity": 0.7,
          "size": 10
         },
         "mode": "markers+text",
         "name": "UN Security Council Postpones Vote On Gaza Ceasefire Resolution For Humanitarian Aid Access",
         "text": [
          "46. UN Security Council Postpones Vote On Gaza Ceasefire Resolution For Humanitarian Aid Access"
         ],
         "textposition": "top center",
         "type": "scatter",
         "x": [
          "2023-12-20T00:06:36.072000+00:00"
         ],
         "y": [
          45
         ]
        },
        {
         "hoverinfo": "text",
         "marker": {
          "opacity": 0.7,
          "size": 10
         },
         "mode": "markers+text",
         "name": "Hamas Chief Ismail Haniyeh In Egypt Today For Gaza Ceasefire Talks",
         "text": [
          "47. Hamas Chief Ismail Haniyeh In Egypt Today For Gaza Ceasefire Talks"
         ],
         "textposition": "top center",
         "type": "scatter",
         "x": [
          "2023-12-20T10:04:53.023000+00:00"
         ],
         "y": [
          46
         ]
        },
        {
         "hoverinfo": "text",
         "marker": {
          "opacity": 0.7,
          "size": 10
         },
         "mode": "markers+text",
         "name": "IsraelHamas War News Day 75 Live Updates Hamas chief arrives in Cairo for ceasefire talks",
         "text": [
          "48. IsraelHamas War News Day 75 Live Updates Hamas chief arrives in Cairo for ceasefire talks"
         ],
         "textposition": "top center",
         "type": "scatter",
         "x": [
          "2023-12-20T14:05:02.256000+00:00"
         ],
         "y": [
          47
         ]
        },
        {
         "hoverinfo": "text",
         "marker": {
          "opacity": 0.7,
          "size": 10
         },
         "mode": "markers+text",
         "name": "WRAPUP 3Hamas leader visits Egypt amid intensive talks on new ceasefire",
         "text": [
          "49. WRAPUP 3Hamas leader visits Egypt amid intensive talks on new ceasefire"
         ],
         "textposition": "top center",
         "type": "scatter",
         "x": [
          "2023-12-20T14:05:02.261000+00:00"
         ],
         "y": [
          48
         ]
        },
        {
         "hoverinfo": "text",
         "marker": {
          "opacity": 0.7,
          "size": 10
         },
         "mode": "markers+text",
         "name": "Israel President Isaac Herzog Open To 2nd Ceasefire In Gaza To Free Remaining Hostages",
         "text": [
          "50. Israel President Isaac Herzog Open To 2nd Ceasefire In Gaza To Free Remaining Hostages"
         ],
         "textposition": "top center",
         "type": "scatter",
         "x": [
          "2023-12-20T14:06:38.737000+00:00"
         ],
         "y": [
          49
         ]
        },
        {
         "hoverinfo": "text",
         "marker": {
          "opacity": 0.7,
          "size": 10
         },
         "mode": "markers+text",
         "name": "Netanyahu rules out Gaza ceasefire before elimination of Hamas",
         "text": [
          "51. Netanyahu rules out Gaza ceasefire before elimination of Hamas"
         ],
         "textposition": "top center",
         "type": "scatter",
         "x": [
          "2023-12-21T16:01:48.594000+00:00"
         ],
         "y": [
          50
         ]
        },
        {
         "hoverinfo": "text",
         "marker": {
          "opacity": 0.7,
          "size": 10
         },
         "mode": "markers+text",
         "name": "Israeli PM vows to fight until victory despite ceasefire efforts",
         "text": [
          "52. Israeli PM vows to fight until victory despite ceasefire efforts"
         ],
         "textposition": "top center",
         "type": "scatter",
         "x": [
          "2023-12-21T16:01:48.594000+00:00"
         ],
         "y": [
          51
         ]
        },
        {
         "hoverinfo": "text",
         "marker": {
          "opacity": 0.7,
          "size": 10
         },
         "mode": "markers+text",
         "name": "Live updates Israeli airstrikes hit Gaza and UN says half a million people there are starving",
         "text": [
          "53. Live updates Israeli airstrikes hit Gaza and UN says half a million people there are starving"
         ],
         "textposition": "top center",
         "type": "scatter",
         "x": [
          "2023-12-21T18:01:47.731000+00:00"
         ],
         "y": [
          52
         ]
        },
        {
         "hoverinfo": "text",
         "marker": {
          "opacity": 0.7,
          "size": 10
         },
         "mode": "markers+text",
         "name": "Hamas leader visits Egypt for Gaza ceasefire and hostage release talks",
         "text": [
          "54. Hamas leader visits Egypt for Gaza ceasefire and hostage release talks"
         ],
         "textposition": "top center",
         "type": "scatter",
         "x": [
          "2023-12-22T08:03:29.735000+00:00"
         ],
         "y": [
          53
         ]
        },
        {
         "hoverinfo": "text",
         "marker": {
          "opacity": 0.7,
          "size": 10
         },
         "mode": "markers+text",
         "name": "Israeli airstrikes kill dozens more Palestinians across the Gaza Strip Rafah",
         "text": [
          "55. Israeli airstrikes kill dozens more Palestinians across the Gaza Strip Rafah"
         ],
         "textposition": "top center",
         "type": "scatter",
         "x": [
          "2023-12-22T10:05:07.086000+00:00"
         ],
         "y": [
          54
         ]
        },
        {
         "hoverinfo": "text",
         "marker": {
          "opacity": 0.7,
          "size": 10
         },
         "mode": "markers+text",
         "name": "IsraelGaza war updates Residents fleeing areas of central Gaza groups criticize UN resolution",
         "text": [
          "56. IsraelGaza war updates Residents fleeing areas of central Gaza groups criticize UN resolution"
         ],
         "textposition": "top center",
         "type": "scatter",
         "x": [
          "2023-12-23T16:05:15.761000+00:00"
         ],
         "y": [
          55
         ]
        },
        {
         "hoverinfo": "text",
         "marker": {
          "opacity": 0.7,
          "size": 10
         },
         "mode": "markers+text",
         "name": "IsraelOPT Adoption of UN resolution to expedite humanitarian aid to Gaza an important but insufficient step",
         "text": [
          "57. IsraelOPT Adoption of UN resolution to expedite humanitarian aid to Gaza an important but insufficient step"
         ],
         "textposition": "top center",
         "type": "scatter",
         "x": [
          "2023-12-24T00:06:25.284000+00:00"
         ],
         "y": [
          56
         ]
        },
        {
         "hoverinfo": "text",
         "marker": {
          "opacity": 0.7,
          "size": 10
         },
         "mode": "markers+text",
         "name": "Humanitarian ceasefire only way to end Gaza 039nightmare039 Guterres",
         "text": [
          "58. Humanitarian ceasefire only way to end Gaza 039nightmare039 Guterres"
         ],
         "textposition": "top center",
         "type": "scatter",
         "x": [
          "2023-12-24T00:06:25.287000+00:00"
         ],
         "y": [
          57
         ]
        },
        {
         "hoverinfo": "text",
         "marker": {
          "opacity": 0.7,
          "size": 10
         },
         "mode": "markers+text",
         "name": "Did not ask for ceasefire in Gaza Biden after phone call with Netanyahu",
         "text": [
          "59. Did not ask for ceasefire in Gaza Biden after phone call with Netanyahu"
         ],
         "textposition": "top center",
         "type": "scatter",
         "x": [
          "2023-12-24T04:06:56.483000+00:00"
         ],
         "y": [
          58
         ]
        },
        {
         "hoverinfo": "text",
         "marker": {
          "opacity": 0.7,
          "size": 10
         },
         "mode": "markers+text",
         "name": "Biden says he did not ask for ceasefire in call with Israels Netanyahu",
         "text": [
          "60. Biden says he did not ask for ceasefire in call with Israels Netanyahu"
         ],
         "textposition": "top center",
         "type": "scatter",
         "x": [
          "2023-12-24T04:06:56.484000+00:00"
         ],
         "y": [
          59
         ]
        },
        {
         "hoverinfo": "text",
         "marker": {
          "opacity": 0.7,
          "size": 10
         },
         "mode": "markers+text",
         "name": "Hamas rejects Israeli proposals for 7day ceasefire and hostage exchange",
         "text": [
          "61. Hamas rejects Israeli proposals for 7day ceasefire and hostage exchange"
         ],
         "textposition": "top center",
         "type": "scatter",
         "x": [
          "2023-12-24T22:05:44.077000+00:00"
         ],
         "y": [
          60
         ]
        },
        {
         "hoverinfo": "text",
         "marker": {
          "opacity": 0.7,
          "size": 10
         },
         "mode": "markers+text",
         "name": "Israeli Airstrike Kills 70 In Gaza Refugee Camp Says Hamas",
         "text": [
          "62. Israeli Airstrike Kills 70 In Gaza Refugee Camp Says Hamas"
         ],
         "textposition": "top center",
         "type": "scatter",
         "x": [
          "2023-12-25T04:07:37.447000+00:00"
         ],
         "y": [
          61
         ]
        },
        {
         "hoverinfo": "text",
         "marker": {
          "opacity": 0.7,
          "size": 10
         },
         "mode": "markers+text",
         "name": "First aid ship from Cyprus arrives in Gaza Hamas puts forth new ceasefire proposal",
         "text": [
          "63. First aid ship from Cyprus arrives in Gaza Hamas puts forth new ceasefire proposal"
         ],
         "textposition": "top center",
         "type": "scatter",
         "x": [
          "2024-03-16T08:01:10.502000+00:00"
         ],
         "y": [
          62
         ]
        },
        {
         "hoverinfo": "text",
         "marker": {
          "opacity": 0.7,
          "size": 10
         },
         "mode": "markers+text",
         "name": "Gaza War Hamas Ceasefire Proposal to Mediators HostagePrisoner Exchange",
         "text": [
          "64. Gaza War Hamas Ceasefire Proposal to Mediators HostagePrisoner Exchange"
         ],
         "textposition": "top center",
         "type": "scatter",
         "x": [
          "2024-03-16T08:04:00.305000+00:00"
         ],
         "y": [
          63
         ]
        },
        {
         "hoverinfo": "text",
         "marker": {
          "opacity": 0.7,
          "size": 10
         },
         "mode": "markers+text",
         "name": "Hamas demands ceasefire Israeli withdrawal as prerequisites for prisoner exchange deal",
         "text": [
          "65. Hamas demands ceasefire Israeli withdrawal as prerequisites for prisoner exchange deal"
         ],
         "textposition": "top center",
         "type": "scatter",
         "x": [
          "2024-03-16T08:04:00.309000+00:00"
         ],
         "y": [
          64
         ]
        },
        {
         "hoverinfo": "text",
         "marker": {
          "opacity": 0.7,
          "size": 10
         },
         "mode": "markers+text",
         "name": "Hamas issues ceasefire proposal detailing exchange of hostages prisoners",
         "text": [
          "66. Hamas issues ceasefire proposal detailing exchange of hostages prisoners"
         ],
         "textposition": "top center",
         "type": "scatter",
         "x": [
          "2024-03-17T04:18:37.834000+00:00"
         ],
         "y": [
          65
         ]
        },
        {
         "hoverinfo": "text",
         "marker": {
          "opacity": 0.7,
          "size": 10
         },
         "mode": "markers+text",
         "name": "The Latest Death toll climbs after airstrikes and rocket fire on LebanonIsrael border",
         "text": [
          "67. The Latest Death toll climbs after airstrikes and rocket fire on LebanonIsrael border"
         ],
         "textposition": "top center",
         "type": "scatter",
         "x": [
          "2024-03-28T15:11:10.626000+00:00"
         ],
         "y": [
          66
         ]
        },
        {
         "hoverinfo": "text",
         "marker": {
          "opacity": 0.7,
          "size": 10
         },
         "mode": "markers+text",
         "name": "Israel confirms Hamas Marwan Issa killed in airstrike earlier this month",
         "text": [
          "68. Israel confirms Hamas Marwan Issa killed in airstrike earlier this month"
         ],
         "textposition": "top center",
         "type": "scatter",
         "x": [
          "2024-03-28T15:11:15.311000+00:00"
         ],
         "y": [
          67
         ]
        },
        {
         "hoverinfo": "text",
         "marker": {
          "opacity": 0.7,
          "size": 10
         },
         "mode": "markers+text",
         "name": "Israeli airstrikes kill 20 in Gaza Rafah say Palestinian officials",
         "text": [
          "69. Israeli airstrikes kill 20 in Gaza Rafah say Palestinian officials"
         ],
         "textposition": "top center",
         "type": "scatter",
         "x": [
          "2024-03-28T16:35:07.740000+00:00"
         ],
         "y": [
          68
         ]
        },
        {
         "hoverinfo": "text",
         "marker": {
          "opacity": 0.7,
          "size": 10
         },
         "mode": "markers+text",
         "name": "Israel continues to bomb Gaza and block aid in defiance of UNSC ceasefire resolution Peoples Dispatch",
         "text": [
          "70. Israel continues to bomb Gaza and block aid in defiance of UNSC ceasefire resolution Peoples Dispatch"
         ],
         "textposition": "top center",
         "type": "scatter",
         "x": [
          "2024-03-28T16:35:29.470000+00:00"
         ],
         "y": [
          69
         ]
        },
        {
         "hoverinfo": "text",
         "marker": {
          "opacity": 0.7,
          "size": 10
         },
         "mode": "markers+text",
         "name": "Gaza Death Toll Continues to Rise Despite Adopted Ceasefire Resolution",
         "text": [
          "71. Gaza Death Toll Continues to Rise Despite Adopted Ceasefire Resolution"
         ],
         "textposition": "top center",
         "type": "scatter",
         "x": [
          "2024-03-28T23:00:48.582000+00:00"
         ],
         "y": [
          70
         ]
        },
        {
         "hoverinfo": "text",
         "marker": {
          "opacity": 0.7,
          "size": 10
         },
         "mode": "markers+text",
         "name": "Syria says Israeli airstrikes near northern city of Aleppo inflicts casualties",
         "text": [
          "72. Syria says Israeli airstrikes near northern city of Aleppo inflicts casualties"
         ],
         "textposition": "top center",
         "type": "scatter",
         "x": [
          "2024-03-29T08:01:49.830000+00:00"
         ],
         "y": [
          71
         ]
        },
        {
         "hoverinfo": "text",
         "marker": {
          "opacity": 0.7,
          "size": 10
         },
         "mode": "markers+text",
         "name": "Netanyahu approves new Gaza ceasefire talks",
         "text": [
          "73. Netanyahu approves new Gaza ceasefire talks"
         ],
         "textposition": "top center",
         "type": "scatter",
         "x": [
          "2024-03-29T20:04:28.549000+00:00"
         ],
         "y": [
          72
         ]
        },
        {
         "hoverinfo": "text",
         "marker": {
          "opacity": 0.7,
          "size": 10
         },
         "mode": "markers+text",
         "name": "Israel To Return To CeaseFire Negotiations But Strikes On Gaza And Syria Continue By Benzinga",
         "text": [
          "74. Israel To Return To CeaseFire Negotiations But Strikes On Gaza And Syria Continue By Benzinga"
         ],
         "textposition": "top center",
         "type": "scatter",
         "x": [
          "2024-03-29T20:05:31.003000+00:00"
         ],
         "y": [
          73
         ]
        },
        {
         "hoverinfo": "text",
         "marker": {
          "opacity": 0.7,
          "size": 10
         },
         "mode": "markers+text",
         "name": "Death toll rises to 42 after Israeli airstrikes hit Syrias Aleppo",
         "text": [
          "75. Death toll rises to 42 after Israeli airstrikes hit Syrias Aleppo"
         ],
         "textposition": "top center",
         "type": "scatter",
         "x": [
          "2024-03-30T02:05:17.278000+00:00"
         ],
         "y": [
          74
         ]
        },
        {
         "hoverinfo": "text",
         "marker": {
          "opacity": 0.7,
          "size": 10
         },
         "mode": "markers+text",
         "name": "Hamas leader Ismail Haniyeh Visits Iran Post UN Resolution On Gaza",
         "text": [
          "76. Hamas leader Ismail Haniyeh Visits Iran Post UN Resolution On Gaza"
         ],
         "textposition": "top center",
         "type": "scatter",
         "x": [
          "2024-03-30T02:05:27.062000+00:00"
         ],
         "y": [
          75
         ]
        },
        {
         "hoverinfo": "text",
         "marker": {
          "opacity": 0.7,
          "size": 10
         },
         "mode": "markers+text",
         "name": "Israels message to the world must be clear Hostages for a ceasefire now opinion",
         "text": [
          "77. Israels message to the world must be clear Hostages for a ceasefire now opinion"
         ],
         "textposition": "top center",
         "type": "scatter",
         "x": [
          "2024-03-30T16:05:08.805000+00:00"
         ],
         "y": [
          76
         ]
        },
        {
         "hoverinfo": "text",
         "marker": {
          "opacity": 0.7,
          "size": 10
         },
         "mode": "markers+text",
         "name": "Naked Hypocrisy The US Cited UNSC Resolutions to Invade Iraq Now Call Gaza Ceasefire Demand NonBinding",
         "text": [
          "78. Naked Hypocrisy The US Cited UNSC Resolutions to Invade Iraq Now Call Gaza Ceasefire Demand NonBinding"
         ],
         "textposition": "top center",
         "type": "scatter",
         "x": [
          "2024-03-30T18:05:43.334000+00:00"
         ],
         "y": [
          77
         ]
        },
        {
         "hoverinfo": "text",
         "marker": {
          "opacity": 0.7,
          "size": 10
         },
         "mode": "markers+text",
         "name": "UN To Vote On Resolution Demanding A CeaseFire In Gaza During Ramazan",
         "text": [
          "79. UN To Vote On Resolution Demanding A CeaseFire In Gaza During Ramazan"
         ],
         "textposition": "top center",
         "type": "scatter",
         "x": [
          "2024-03-30T20:05:16.973000+00:00"
         ],
         "y": [
          78
         ]
        }
       ],
       "layout": {
        "autosize": true,
        "hovermode": "closest",
        "showlegend": false,
        "template": {
         "data": {
          "bar": [
           {
            "error_x": {
             "color": "#2a3f5f"
            },
            "error_y": {
             "color": "#2a3f5f"
            },
            "marker": {
             "line": {
              "color": "#E5ECF6",
              "width": 0.5
             },
             "pattern": {
              "fillmode": "overlay",
              "size": 10,
              "solidity": 0.2
             }
            },
            "type": "bar"
           }
          ],
          "barpolar": [
           {
            "marker": {
             "line": {
              "color": "#E5ECF6",
              "width": 0.5
             },
             "pattern": {
              "fillmode": "overlay",
              "size": 10,
              "solidity": 0.2
             }
            },
            "type": "barpolar"
           }
          ],
          "carpet": [
           {
            "aaxis": {
             "endlinecolor": "#2a3f5f",
             "gridcolor": "white",
             "linecolor": "white",
             "minorgridcolor": "white",
             "startlinecolor": "#2a3f5f"
            },
            "baxis": {
             "endlinecolor": "#2a3f5f",
             "gridcolor": "white",
             "linecolor": "white",
             "minorgridcolor": "white",
             "startlinecolor": "#2a3f5f"
            },
            "type": "carpet"
           }
          ],
          "choropleth": [
           {
            "colorbar": {
             "outlinewidth": 0,
             "ticks": ""
            },
            "type": "choropleth"
           }
          ],
          "contour": [
           {
            "colorbar": {
             "outlinewidth": 0,
             "ticks": ""
            },
            "colorscale": [
             [
              0,
              "#0d0887"
             ],
             [
              0.1111111111111111,
              "#46039f"
             ],
             [
              0.2222222222222222,
              "#7201a8"
             ],
             [
              0.3333333333333333,
              "#9c179e"
             ],
             [
              0.4444444444444444,
              "#bd3786"
             ],
             [
              0.5555555555555556,
              "#d8576b"
             ],
             [
              0.6666666666666666,
              "#ed7953"
             ],
             [
              0.7777777777777778,
              "#fb9f3a"
             ],
             [
              0.8888888888888888,
              "#fdca26"
             ],
             [
              1,
              "#f0f921"
             ]
            ],
            "type": "contour"
           }
          ],
          "contourcarpet": [
           {
            "colorbar": {
             "outlinewidth": 0,
             "ticks": ""
            },
            "type": "contourcarpet"
           }
          ],
          "heatmap": [
           {
            "colorbar": {
             "outlinewidth": 0,
             "ticks": ""
            },
            "colorscale": [
             [
              0,
              "#0d0887"
             ],
             [
              0.1111111111111111,
              "#46039f"
             ],
             [
              0.2222222222222222,
              "#7201a8"
             ],
             [
              0.3333333333333333,
              "#9c179e"
             ],
             [
              0.4444444444444444,
              "#bd3786"
             ],
             [
              0.5555555555555556,
              "#d8576b"
             ],
             [
              0.6666666666666666,
              "#ed7953"
             ],
             [
              0.7777777777777778,
              "#fb9f3a"
             ],
             [
              0.8888888888888888,
              "#fdca26"
             ],
             [
              1,
              "#f0f921"
             ]
            ],
            "type": "heatmap"
           }
          ],
          "heatmapgl": [
           {
            "colorbar": {
             "outlinewidth": 0,
             "ticks": ""
            },
            "colorscale": [
             [
              0,
              "#0d0887"
             ],
             [
              0.1111111111111111,
              "#46039f"
             ],
             [
              0.2222222222222222,
              "#7201a8"
             ],
             [
              0.3333333333333333,
              "#9c179e"
             ],
             [
              0.4444444444444444,
              "#bd3786"
             ],
             [
              0.5555555555555556,
              "#d8576b"
             ],
             [
              0.6666666666666666,
              "#ed7953"
             ],
             [
              0.7777777777777778,
              "#fb9f3a"
             ],
             [
              0.8888888888888888,
              "#fdca26"
             ],
             [
              1,
              "#f0f921"
             ]
            ],
            "type": "heatmapgl"
           }
          ],
          "histogram": [
           {
            "marker": {
             "pattern": {
              "fillmode": "overlay",
              "size": 10,
              "solidity": 0.2
             }
            },
            "type": "histogram"
           }
          ],
          "histogram2d": [
           {
            "colorbar": {
             "outlinewidth": 0,
             "ticks": ""
            },
            "colorscale": [
             [
              0,
              "#0d0887"
             ],
             [
              0.1111111111111111,
              "#46039f"
             ],
             [
              0.2222222222222222,
              "#7201a8"
             ],
             [
              0.3333333333333333,
              "#9c179e"
             ],
             [
              0.4444444444444444,
              "#bd3786"
             ],
             [
              0.5555555555555556,
              "#d8576b"
             ],
             [
              0.6666666666666666,
              "#ed7953"
             ],
             [
              0.7777777777777778,
              "#fb9f3a"
             ],
             [
              0.8888888888888888,
              "#fdca26"
             ],
             [
              1,
              "#f0f921"
             ]
            ],
            "type": "histogram2d"
           }
          ],
          "histogram2dcontour": [
           {
            "colorbar": {
             "outlinewidth": 0,
             "ticks": ""
            },
            "colorscale": [
             [
              0,
              "#0d0887"
             ],
             [
              0.1111111111111111,
              "#46039f"
             ],
             [
              0.2222222222222222,
              "#7201a8"
             ],
             [
              0.3333333333333333,
              "#9c179e"
             ],
             [
              0.4444444444444444,
              "#bd3786"
             ],
             [
              0.5555555555555556,
              "#d8576b"
             ],
             [
              0.6666666666666666,
              "#ed7953"
             ],
             [
              0.7777777777777778,
              "#fb9f3a"
             ],
             [
              0.8888888888888888,
              "#fdca26"
             ],
             [
              1,
              "#f0f921"
             ]
            ],
            "type": "histogram2dcontour"
           }
          ],
          "mesh3d": [
           {
            "colorbar": {
             "outlinewidth": 0,
             "ticks": ""
            },
            "type": "mesh3d"
           }
          ],
          "parcoords": [
           {
            "line": {
             "colorbar": {
              "outlinewidth": 0,
              "ticks": ""
             }
            },
            "type": "parcoords"
           }
          ],
          "pie": [
           {
            "automargin": true,
            "type": "pie"
           }
          ],
          "scatter": [
           {
            "fillpattern": {
             "fillmode": "overlay",
             "size": 10,
             "solidity": 0.2
            },
            "type": "scatter"
           }
          ],
          "scatter3d": [
           {
            "line": {
             "colorbar": {
              "outlinewidth": 0,
              "ticks": ""
             }
            },
            "marker": {
             "colorbar": {
              "outlinewidth": 0,
              "ticks": ""
             }
            },
            "type": "scatter3d"
           }
          ],
          "scattercarpet": [
           {
            "marker": {
             "colorbar": {
              "outlinewidth": 0,
              "ticks": ""
             }
            },
            "type": "scattercarpet"
           }
          ],
          "scattergeo": [
           {
            "marker": {
             "colorbar": {
              "outlinewidth": 0,
              "ticks": ""
             }
            },
            "type": "scattergeo"
           }
          ],
          "scattergl": [
           {
            "marker": {
             "colorbar": {
              "outlinewidth": 0,
              "ticks": ""
             }
            },
            "type": "scattergl"
           }
          ],
          "scattermapbox": [
           {
            "marker": {
             "colorbar": {
              "outlinewidth": 0,
              "ticks": ""
             }
            },
            "type": "scattermapbox"
           }
          ],
          "scatterpolar": [
           {
            "marker": {
             "colorbar": {
              "outlinewidth": 0,
              "ticks": ""
             }
            },
            "type": "scatterpolar"
           }
          ],
          "scatterpolargl": [
           {
            "marker": {
             "colorbar": {
              "outlinewidth": 0,
              "ticks": ""
             }
            },
            "type": "scatterpolargl"
           }
          ],
          "scatterternary": [
           {
            "marker": {
             "colorbar": {
              "outlinewidth": 0,
              "ticks": ""
             }
            },
            "type": "scatterternary"
           }
          ],
          "surface": [
           {
            "colorbar": {
             "outlinewidth": 0,
             "ticks": ""
            },
            "colorscale": [
             [
              0,
              "#0d0887"
             ],
             [
              0.1111111111111111,
              "#46039f"
             ],
             [
              0.2222222222222222,
              "#7201a8"
             ],
             [
              0.3333333333333333,
              "#9c179e"
             ],
             [
              0.4444444444444444,
              "#bd3786"
             ],
             [
              0.5555555555555556,
              "#d8576b"
             ],
             [
              0.6666666666666666,
              "#ed7953"
             ],
             [
              0.7777777777777778,
              "#fb9f3a"
             ],
             [
              0.8888888888888888,
              "#fdca26"
             ],
             [
              1,
              "#f0f921"
             ]
            ],
            "type": "surface"
           }
          ],
          "table": [
           {
            "cells": {
             "fill": {
              "color": "#EBF0F8"
             },
             "line": {
              "color": "white"
             }
            },
            "header": {
             "fill": {
              "color": "#C8D4E3"
             },
             "line": {
              "color": "white"
             }
            },
            "type": "table"
           }
          ]
         },
         "layout": {
          "annotationdefaults": {
           "arrowcolor": "#2a3f5f",
           "arrowhead": 0,
           "arrowwidth": 1
          },
          "autotypenumbers": "strict",
          "coloraxis": {
           "colorbar": {
            "outlinewidth": 0,
            "ticks": ""
           }
          },
          "colorscale": {
           "diverging": [
            [
             0,
             "#8e0152"
            ],
            [
             0.1,
             "#c51b7d"
            ],
            [
             0.2,
             "#de77ae"
            ],
            [
             0.3,
             "#f1b6da"
            ],
            [
             0.4,
             "#fde0ef"
            ],
            [
             0.5,
             "#f7f7f7"
            ],
            [
             0.6,
             "#e6f5d0"
            ],
            [
             0.7,
             "#b8e186"
            ],
            [
             0.8,
             "#7fbc41"
            ],
            [
             0.9,
             "#4d9221"
            ],
            [
             1,
             "#276419"
            ]
           ],
           "sequential": [
            [
             0,
             "#0d0887"
            ],
            [
             0.1111111111111111,
             "#46039f"
            ],
            [
             0.2222222222222222,
             "#7201a8"
            ],
            [
             0.3333333333333333,
             "#9c179e"
            ],
            [
             0.4444444444444444,
             "#bd3786"
            ],
            [
             0.5555555555555556,
             "#d8576b"
            ],
            [
             0.6666666666666666,
             "#ed7953"
            ],
            [
             0.7777777777777778,
             "#fb9f3a"
            ],
            [
             0.8888888888888888,
             "#fdca26"
            ],
            [
             1,
             "#f0f921"
            ]
           ],
           "sequentialminus": [
            [
             0,
             "#0d0887"
            ],
            [
             0.1111111111111111,
             "#46039f"
            ],
            [
             0.2222222222222222,
             "#7201a8"
            ],
            [
             0.3333333333333333,
             "#9c179e"
            ],
            [
             0.4444444444444444,
             "#bd3786"
            ],
            [
             0.5555555555555556,
             "#d8576b"
            ],
            [
             0.6666666666666666,
             "#ed7953"
            ],
            [
             0.7777777777777778,
             "#fb9f3a"
            ],
            [
             0.8888888888888888,
             "#fdca26"
            ],
            [
             1,
             "#f0f921"
            ]
           ]
          },
          "colorway": [
           "#636efa",
           "#EF553B",
           "#00cc96",
           "#ab63fa",
           "#FFA15A",
           "#19d3f3",
           "#FF6692",
           "#B6E880",
           "#FF97FF",
           "#FECB52"
          ],
          "font": {
           "color": "#2a3f5f"
          },
          "geo": {
           "bgcolor": "white",
           "lakecolor": "white",
           "landcolor": "#E5ECF6",
           "showlakes": true,
           "showland": true,
           "subunitcolor": "white"
          },
          "hoverlabel": {
           "align": "left"
          },
          "hovermode": "closest",
          "mapbox": {
           "style": "light"
          },
          "paper_bgcolor": "white",
          "plot_bgcolor": "#E5ECF6",
          "polar": {
           "angularaxis": {
            "gridcolor": "white",
            "linecolor": "white",
            "ticks": ""
           },
           "bgcolor": "#E5ECF6",
           "radialaxis": {
            "gridcolor": "white",
            "linecolor": "white",
            "ticks": ""
           }
          },
          "scene": {
           "xaxis": {
            "backgroundcolor": "#E5ECF6",
            "gridcolor": "white",
            "gridwidth": 2,
            "linecolor": "white",
            "showbackground": true,
            "ticks": "",
            "zerolinecolor": "white"
           },
           "yaxis": {
            "backgroundcolor": "#E5ECF6",
            "gridcolor": "white",
            "gridwidth": 2,
            "linecolor": "white",
            "showbackground": true,
            "ticks": "",
            "zerolinecolor": "white"
           },
           "zaxis": {
            "backgroundcolor": "#E5ECF6",
            "gridcolor": "white",
            "gridwidth": 2,
            "linecolor": "white",
            "showbackground": true,
            "ticks": "",
            "zerolinecolor": "white"
           }
          },
          "shapedefaults": {
           "line": {
            "color": "#2a3f5f"
           }
          },
          "ternary": {
           "aaxis": {
            "gridcolor": "white",
            "linecolor": "white",
            "ticks": ""
           },
           "baxis": {
            "gridcolor": "white",
            "linecolor": "white",
            "ticks": ""
           },
           "bgcolor": "#E5ECF6",
           "caxis": {
            "gridcolor": "white",
            "linecolor": "white",
            "ticks": ""
           }
          },
          "title": {
           "x": 0.05
          },
          "xaxis": {
           "automargin": true,
           "gridcolor": "white",
           "linecolor": "white",
           "ticks": "",
           "title": {
            "standoff": 15
           },
           "zerolinecolor": "white",
           "zerolinewidth": 2
          },
          "yaxis": {
           "automargin": true,
           "gridcolor": "white",
           "linecolor": "white",
           "ticks": "",
           "title": {
            "standoff": 15
           },
           "zerolinecolor": "white",
           "zerolinewidth": 2
          }
         }
        },
        "title": {
         "text": "Timeline of Events"
        },
        "xaxis": {
         "autorange": false,
         "range": [
          "2023-11-30 08:35:44.8777",
          "2024-02-26 00:45:33.9783"
         ],
         "tickformat": "%d %B %Y",
         "title": {
          "text": "Date"
         },
         "type": "date"
        },
        "yaxis": {
         "automargin": true,
         "autorange": false,
         "range": [
          16.960027567195034,
          61.03997243280496
         ],
         "showticklabels": true,
         "ticktext": [
          "27 October 2023",
          "27 October 2023",
          "27 October 2023",
          "27 October 2023",
          "03 December 2023",
          "03 December 2023",
          "03 December 2023",
          "03 December 2023",
          "03 December 2023",
          "03 December 2023",
          "03 December 2023",
          "03 December 2023",
          "04 December 2023",
          "04 December 2023",
          "04 December 2023",
          "04 December 2023",
          "04 December 2023",
          "05 December 2023",
          "06 December 2023",
          "07 December 2023",
          "08 December 2023",
          "08 December 2023",
          "09 December 2023",
          "09 December 2023",
          "09 December 2023",
          "10 December 2023",
          "11 December 2023",
          "11 December 2023",
          "13 December 2023",
          "13 December 2023",
          "13 December 2023",
          "14 December 2023",
          "14 December 2023",
          "15 December 2023",
          "17 December 2023",
          "17 December 2023",
          "17 December 2023",
          "17 December 2023",
          "18 December 2023",
          "18 December 2023",
          "18 December 2023",
          "18 December 2023",
          "18 December 2023",
          "18 December 2023",
          "19 December 2023",
          "20 December 2023",
          "20 December 2023",
          "20 December 2023",
          "20 December 2023",
          "20 December 2023",
          "21 December 2023",
          "21 December 2023",
          "21 December 2023",
          "22 December 2023",
          "22 December 2023",
          "23 December 2023",
          "24 December 2023",
          "24 December 2023",
          "24 December 2023",
          "24 December 2023",
          "24 December 2023",
          "25 December 2023",
          "16 March 2024",
          "16 March 2024",
          "16 March 2024",
          "17 March 2024",
          "28 March 2024",
          "28 March 2024",
          "28 March 2024",
          "28 March 2024",
          "28 March 2024",
          "29 March 2024",
          "29 March 2024",
          "29 March 2024",
          "30 March 2024",
          "30 March 2024",
          "30 March 2024",
          "30 March 2024",
          "30 March 2024"
         ],
         "tickvals": [
          0,
          1,
          2,
          3,
          4,
          5,
          6,
          7,
          8,
          9,
          10,
          11,
          12,
          13,
          14,
          15,
          16,
          17,
          18,
          19,
          20,
          21,
          22,
          23,
          24,
          25,
          26,
          27,
          28,
          29,
          30,
          31,
          32,
          33,
          34,
          35,
          36,
          37,
          38,
          39,
          40,
          41,
          42,
          43,
          44,
          45,
          46,
          47,
          48,
          49,
          50,
          51,
          52,
          53,
          54,
          55,
          56,
          57,
          58,
          59,
          60,
          61,
          62,
          63,
          64,
          65,
          66,
          67,
          68,
          69,
          70,
          71,
          72,
          73,
          74,
          75,
          76,
          77,
          78
         ],
         "title": {
          "text": ""
         },
         "type": "linear"
        }
       }
      },
      "image/png": "[encoded data removed]",
      "text/html": [
       "<div>                            <div id=\"b36b26df-48e3-44e1-b137-5a11539965b5\" class=\"plotly-graph-div\" style=\"height:1000px; width:100%;\"></div>            <script type=\"text/javascript\">                require([\"plotly\"], function(Plotly) {                    window.PLOTLYENV=window.PLOTLYENV || {};                                    if (document.getElementById(\"b36b26df-48e3-44e1-b137-5a11539965b5\")) {                    Plotly.newPlot(                        \"b36b26df-48e3-44e1-b137-5a11539965b5\",                        [{\"hoverinfo\":\"text\",\"marker\":{\"opacity\":0.7,\"size\":10},\"mode\":\"markers+text\",\"name\":\"Gaza EU stops short of calling for ceasefire ahead of UN vote as crisis escalates\",\"text\":[\"1. Gaza EU stops short of calling for ceasefire ahead of UN vote as crisis escalates\"],\"textposition\":\"top center\",\"x\":[\"2023-10-27T13:16:01.883000+00:00\"],\"y\":[0],\"type\":\"scatter\"},{\"hoverinfo\":\"text\",\"marker\":{\"opacity\":0.7,\"size\":10},\"mode\":\"markers+text\",\"name\":\"Release of hostages needs ceasefire Hamas official says\",\"text\":[\"2. Release of hostages needs ceasefire Hamas official says\"],\"textposition\":\"top center\",\"x\":[\"2023-10-27T13:16:24.650000+00:00\"],\"y\":[1],\"type\":\"scatter\"},{\"hoverinfo\":\"text\",\"marker\":{\"opacity\":0.7,\"size\":10},\"mode\":\"markers+text\",\"name\":\"Hamas Battalion Leader Killed By IDF Airstrike In Gaza Israel Claims\",\"text\":[\"3. Hamas Battalion Leader Killed By IDF Airstrike In Gaza Israel Claims\"],\"textposition\":\"top center\",\"x\":[\"2023-10-27T13:17:56.759000+00:00\"],\"y\":[2],\"type\":\"scatter\"},{\"hoverinfo\":\"text\",\"marker\":{\"opacity\":0.7,\"size\":10},\"mode\":\"markers+text\",\"name\":\"Israel vows again to destroy Hamas rejecting calls for a ceasefire in Gaza at a major UN meeting\",\"text\":[\"4. Israel vows again to destroy Hamas rejecting calls for a ceasefire in Gaza at a major UN meeting\"],\"textposition\":\"top center\",\"x\":[\"2023-10-27T13:32:02.245000+00:00\"],\"y\":[3],\"type\":\"scatter\"},{\"hoverinfo\":\"text\",\"marker\":{\"opacity\":0.7,\"size\":10},\"mode\":\"markers+text\",\"name\":\"Hamas Reneged On Commitments Blinken On Why Gaza Ceasefire Ended\",\"text\":[\"5. Hamas Reneged On Commitments Blinken On Why Gaza Ceasefire Ended\"],\"textposition\":\"top center\",\"x\":[\"2023-12-03T06:02:56.487000+00:00\"],\"y\":[4],\"type\":\"scatter\"},{\"hoverinfo\":\"text\",\"marker\":{\"opacity\":0.7,\"size\":10},\"mode\":\"markers+text\",\"name\":\"Israel resumes Gaza military operation after ceasefire with Hamas ends\",\"text\":[\"6. Israel resumes Gaza military operation after ceasefire with Hamas ends\"],\"textposition\":\"top center\",\"x\":[\"2023-12-03T06:02:56.487000+00:00\"],\"y\":[5],\"type\":\"scatter\"},{\"hoverinfo\":\"text\",\"marker\":{\"opacity\":0.7,\"size\":10},\"mode\":\"markers+text\",\"name\":\"Israeli airstrike hit Damascus airport and put it out of service Syria\",\"text\":[\"7. Israeli airstrike hit Damascus airport and put it out of service Syria\"],\"textposition\":\"top center\",\"x\":[\"2023-12-03T14:02:02.606000+00:00\"],\"y\":[6],\"type\":\"scatter\"},{\"hoverinfo\":\"text\",\"marker\":{\"opacity\":0.7,\"size\":10},\"mode\":\"markers+text\",\"name\":\"IsraelHamas Ceasefire Deal Will Do Everything To Bring Back Other Hostages Says Israeli Hostages and Missing Families Forum\",\"text\":[\"8. IsraelHamas Ceasefire Deal Will Do Everything To Bring Back Other Hostages Says Israeli Hostages and Missing Families Forum\"],\"textposition\":\"top center\",\"x\":[\"2023-12-03T14:03:50.874000+00:00\"],\"y\":[7],\"type\":\"scatter\"},{\"hoverinfo\":\"text\",\"marker\":{\"opacity\":0.7,\"size\":10},\"mode\":\"markers+text\",\"name\":\"Iran Demands End To Israeli Crimes Calls For Permanent Ceasefire In Gaza\",\"text\":[\"9. Iran Demands End To Israeli Crimes Calls For Permanent Ceasefire In Gaza\"],\"textposition\":\"top center\",\"x\":[\"2023-12-03T16:05:19.517000+00:00\"],\"y\":[8],\"type\":\"scatter\"},{\"hoverinfo\":\"text\",\"marker\":{\"opacity\":0.7,\"size\":10},\"mode\":\"markers+text\",\"name\":\"war to continue till Hamas are crushed as 5 nations work on ceasefire extension Netanyahu\",\"text\":[\"10. war to continue till Hamas are crushed as 5 nations work on ceasefire extension Netanyahu\"],\"textposition\":\"top center\",\"x\":[\"2023-12-03T20:04:05.583000+00:00\"],\"y\":[9],\"type\":\"scatter\"},{\"hoverinfo\":\"text\",\"marker\":{\"opacity\":0.7,\"size\":10},\"mode\":\"markers+text\",\"name\":\"Rocket fired from within Gaza as ceasefire draws to an end\",\"text\":[\"11. Rocket fired from within Gaza as ceasefire draws to an end\"],\"textposition\":\"top center\",\"x\":[\"2023-12-03T22:03:58.830000+00:00\"],\"y\":[10],\"type\":\"scatter\"},{\"hoverinfo\":\"text\",\"marker\":{\"opacity\":0.7,\"size\":10},\"mode\":\"markers+text\",\"name\":\"Israel presses southern Gaza after collapse of Hamas ceasefire\",\"text\":[\"12. Israel presses southern Gaza after collapse of Hamas ceasefire\"],\"textposition\":\"top center\",\"x\":[\"2023-12-03T22:06:09.068000+00:00\"],\"y\":[11],\"type\":\"scatter\"},{\"hoverinfo\":\"text\",\"marker\":{\"opacity\":0.7,\"size\":10},\"mode\":\"markers+text\",\"name\":\"No prisoner exchange with Israel until there is ceasefire in Gaza says Hamas\",\"text\":[\"13. No prisoner exchange with Israel until there is ceasefire in Gaza says Hamas\"],\"textposition\":\"top center\",\"x\":[\"2023-12-04T04:04:54.064000+00:00\"],\"y\":[12],\"type\":\"scatter\"},{\"hoverinfo\":\"text\",\"marker\":{\"opacity\":0.7,\"size\":10},\"mode\":\"markers+text\",\"name\":\"Israel resumes Gaza offensive ending ceasefire blames Hamas for violating deal\",\"text\":[\"14. Israel resumes Gaza offensive ending ceasefire blames Hamas for violating deal\"],\"textposition\":\"top center\",\"x\":[\"2023-12-04T04:06:03.485000+00:00\"],\"y\":[13],\"type\":\"scatter\"},{\"hoverinfo\":\"text\",\"marker\":{\"opacity\":0.7,\"size\":10},\"mode\":\"markers+text\",\"name\":\"Live updates IsraelHamas war Gaza airstrikes Qatar ceasefire calls\",\"text\":[\"15. Live updates IsraelHamas war Gaza airstrikes Qatar ceasefire calls\"],\"textposition\":\"top center\",\"x\":[\"2023-12-04T06:03:27.018000+00:00\"],\"y\":[14],\"type\":\"scatter\"},{\"hoverinfo\":\"text\",\"marker\":{\"opacity\":0.7,\"size\":10},\"mode\":\"markers+text\",\"name\":\"Pope deplores end of IsraelHamas truce voices hope for new ceasefire\",\"text\":[\"16. Pope deplores end of IsraelHamas truce voices hope for new ceasefire\"],\"textposition\":\"top center\",\"x\":[\"2023-12-04T08:00:57.163000+00:00\"],\"y\":[15],\"type\":\"scatter\"},{\"hoverinfo\":\"text\",\"marker\":{\"opacity\":0.7,\"size\":10},\"mode\":\"markers+text\",\"name\":\"IsraelHamas war resumes after weeklong ceasefire Evaluating hopes against realities\",\"text\":[\"17. IsraelHamas war resumes after weeklong ceasefire Evaluating hopes against realities\"],\"textposition\":\"top center\",\"x\":[\"2023-12-04T16:03:06.260000+00:00\"],\"y\":[16],\"type\":\"scatter\"},{\"hoverinfo\":\"text\",\"marker\":{\"opacity\":0.7,\"size\":10},\"mode\":\"markers+text\",\"name\":\"Qatar emir condemns genocide in Gaza urges ceasefire at GCC summit\",\"text\":[\"18. Qatar emir condemns genocide in Gaza urges ceasefire at GCC summit\"],\"textposition\":\"top center\",\"x\":[\"2023-12-05T14:00:53.488000+00:00\"],\"y\":[17],\"type\":\"scatter\"},{\"hoverinfo\":\"text\",\"marker\":{\"opacity\":0.7,\"size\":10},\"mode\":\"markers+text\",\"name\":\"Israel faces mounting calls for new ceasefire in war with Hamas from UN and Israeli hostage families\",\"text\":[\"19. Israel faces mounting calls for new ceasefire in war with Hamas from UN and Israeli hostage families\"],\"textposition\":\"top center\",\"x\":[\"2023-12-06T16:05:07.916000+00:00\"],\"y\":[18],\"type\":\"scatter\"},{\"hoverinfo\":\"text\",\"marker\":{\"opacity\":0.7,\"size\":10},\"mode\":\"markers+text\",\"name\":\"Several students wounded in southern Lebanon after an Israeli airstrike\",\"text\":[\"20. Several students wounded in southern Lebanon after an Israeli airstrike\"],\"textposition\":\"top center\",\"x\":[\"2023-12-07T22:05:00.796000+00:00\"],\"y\":[19],\"type\":\"scatter\"},{\"hoverinfo\":\"text\",\"marker\":{\"opacity\":0.7,\"size\":10},\"mode\":\"markers+text\",\"name\":\"World should make immediate Gaza ceasefire a priority regional foreign ministers\",\"text\":[\"21. World should make immediate Gaza ceasefire a priority regional foreign ministers\"],\"textposition\":\"top center\",\"x\":[\"2023-12-08T20:06:01.404000+00:00\"],\"y\":[20],\"type\":\"scatter\"},{\"hoverinfo\":\"text\",\"marker\":{\"opacity\":0.7,\"size\":10},\"mode\":\"markers+text\",\"name\":\"Live Updates US vetos Gaza ceasefire resolution as EU sanctions more Hamas commanders\",\"text\":[\"22. Live Updates US vetos Gaza ceasefire resolution as EU sanctions more Hamas commanders\"],\"textposition\":\"top center\",\"x\":[\"2023-12-08T22:02:18.101000+00:00\"],\"y\":[21],\"type\":\"scatter\"},{\"hoverinfo\":\"text\",\"marker\":{\"opacity\":0.7,\"size\":10},\"mode\":\"markers+text\",\"name\":\"Divorced From Reality US Vetoes UN Resolution On Gaza Ceasefire\",\"text\":[\"23. Divorced From Reality US Vetoes UN Resolution On Gaza Ceasefire\"],\"textposition\":\"top center\",\"x\":[\"2023-12-09T04:05:54.368000+00:00\"],\"y\":[22],\"type\":\"scatter\"},{\"hoverinfo\":\"text\",\"marker\":{\"opacity\":0.7,\"size\":10},\"mode\":\"markers+text\",\"name\":\"Iran Warns Of Uncontrollable Explosion In Middle East After US Vetoes Gaza Ceasefire Bid\",\"text\":[\"24. Iran Warns Of Uncontrollable Explosion In Middle East After US Vetoes Gaza Ceasefire Bid\"],\"textposition\":\"top center\",\"x\":[\"2023-12-09T14:07:31.469000+00:00\"],\"y\":[23],\"type\":\"scatter\"},{\"hoverinfo\":\"text\",\"marker\":{\"opacity\":0.7,\"size\":10},\"mode\":\"markers+text\",\"name\":\"The clock is ticking for Israel despite UN failing to agree on ceasefire resolution\",\"text\":[\"25. The clock is ticking for Israel despite UN failing to agree on ceasefire resolution\"],\"textposition\":\"top center\",\"x\":[\"2023-12-09T20:06:18.025000+00:00\"],\"y\":[24],\"type\":\"scatter\"},{\"hoverinfo\":\"text\",\"marker\":{\"opacity\":0.7,\"size\":10},\"mode\":\"markers+text\",\"name\":\"Israeli PM voices dissatisfaction to Putin over UN vote in favour of Gaza ceasefire\",\"text\":[\"26. Israeli PM voices dissatisfaction to Putin over UN vote in favour of Gaza ceasefire\"],\"textposition\":\"top center\",\"x\":[\"2023-12-10T16:01:23.679000+00:00\"],\"y\":[25],\"type\":\"scatter\"},{\"hoverinfo\":\"text\",\"marker\":{\"opacity\":0.7,\"size\":10},\"mode\":\"markers+text\",\"name\":\"UN General Assembly To Vote Tomorrow On Resolution Seeking Gaza Ceasefire What We Know\",\"text\":[\"27. UN General Assembly To Vote Tomorrow On Resolution Seeking Gaza Ceasefire What We Know\"],\"textposition\":\"top center\",\"x\":[\"2023-12-11T06:05:32.369000+00:00\"],\"y\":[26],\"type\":\"scatter\"},{\"hoverinfo\":\"text\",\"marker\":{\"opacity\":0.7,\"size\":10},\"mode\":\"markers+text\",\"name\":\"UN chief Antonio Guterres says he will not give up appeals for ceasefire in Gaza\",\"text\":[\"28. UN chief Antonio Guterres says he will not give up appeals for ceasefire in Gaza\"],\"textposition\":\"top center\",\"x\":[\"2023-12-11T10:05:49.448000+00:00\"],\"y\":[27],\"type\":\"scatter\"},{\"hoverinfo\":\"text\",\"marker\":{\"opacity\":0.7,\"size\":10},\"mode\":\"markers+text\",\"name\":\"Israel says war in Gaza could go on for months despite international calls for a ceasefire\",\"text\":[\"29. Israel says war in Gaza could go on for months despite international calls for a ceasefire\"],\"textposition\":\"top center\",\"x\":[\"2023-12-13T02:05:54.532000+00:00\"],\"y\":[28],\"type\":\"scatter\"},{\"hoverinfo\":\"text\",\"marker\":{\"opacity\":0.7,\"size\":10},\"mode\":\"markers+text\",\"name\":\"Australia Canada New Zealand back sustainable ceasefire in Gaza\",\"text\":[\"30. Australia Canada New Zealand back sustainable ceasefire in Gaza\"],\"textposition\":\"top center\",\"x\":[\"2023-12-13T02:07:41.875000+00:00\"],\"y\":[29],\"type\":\"scatter\"},{\"hoverinfo\":\"text\",\"marker\":{\"opacity\":0.7,\"size\":10},\"mode\":\"markers+text\",\"name\":\"India favours UNGAs call for Gaza ceasefire IsraelUS divided over casualties Top points\",\"text\":[\"31. India favours UNGAs call for Gaza ceasefire IsraelUS divided over casualties Top points\"],\"textposition\":\"top center\",\"x\":[\"2023-12-13T06:00:42.595000+00:00\"],\"y\":[30],\"type\":\"scatter\"},{\"hoverinfo\":\"text\",\"marker\":{\"opacity\":0.7,\"size\":10},\"mode\":\"markers+text\",\"name\":\"Liberal caucus meets after Canada votes for IsraelHamas ceasefire at UN\",\"text\":[\"32. Liberal caucus meets after Canada votes for IsraelHamas ceasefire at UN\"],\"textposition\":\"top center\",\"x\":[\"2023-12-14T00:08:14.227000+00:00\"],\"y\":[31],\"type\":\"scatter\"},{\"hoverinfo\":\"text\",\"marker\":{\"opacity\":0.7,\"size\":10},\"mode\":\"markers+text\",\"name\":\"EU leaders increasingly back a humanitarian ceasefire in Gaza\",\"text\":[\"33. EU leaders increasingly back a humanitarian ceasefire in Gaza\"],\"textposition\":\"top center\",\"x\":[\"2023-12-14T20:05:22.839000+00:00\"],\"y\":[32],\"type\":\"scatter\"},{\"hoverinfo\":\"text\",\"marker\":{\"opacity\":0.7,\"size\":10},\"mode\":\"markers+text\",\"name\":\"Israel Vows To Press Harder In Its War With Hamas After US Vetoes Gaza Ceasefire Bid\",\"text\":[\"34. Israel Vows To Press Harder In Its War With Hamas After US Vetoes Gaza Ceasefire Bid\"],\"textposition\":\"top center\",\"x\":[\"2023-12-15T14:05:13.441000+00:00\"],\"y\":[33],\"type\":\"scatter\"},{\"hoverinfo\":\"text\",\"marker\":{\"opacity\":0.7,\"size\":10},\"mode\":\"markers+text\",\"name\":\"IsraelGaza war UK and Germany call for sustainable ceasefire\",\"text\":[\"35. IsraelGaza war UK and Germany call for sustainable ceasefire\"],\"textposition\":\"top center\",\"x\":[\"2023-12-17T02:06:25.529000+00:00\"],\"y\":[34],\"type\":\"scatter\"},{\"hoverinfo\":\"text\",\"marker\":{\"opacity\":0.7,\"size\":10},\"mode\":\"markers+text\",\"name\":\"David Cameron defends UKs decision not to vote for UN resolution demanding ceasefire in Gaza as it happened\",\"text\":[\"36. David Cameron defends UKs decision not to vote for UN resolution demanding ceasefire in Gaza as it happened\"],\"textposition\":\"top center\",\"x\":[\"2023-12-17T16:07:18.909000+00:00\"],\"y\":[35],\"type\":\"scatter\"},{\"hoverinfo\":\"text\",\"marker\":{\"opacity\":0.7,\"size\":10},\"mode\":\"markers+text\",\"name\":\"UK and Germany call for sustainable ceasefire in Gaza\",\"text\":[\"37. UK and Germany call for sustainable ceasefire in Gaza\"],\"textposition\":\"top center\",\"x\":[\"2023-12-17T16:07:18.911000+00:00\"],\"y\":[36],\"type\":\"scatter\"},{\"hoverinfo\":\"text\",\"marker\":{\"opacity\":0.7,\"size\":10},\"mode\":\"markers+text\",\"name\":\"European diplomacy steps up calls for Gaza ceasefire\",\"text\":[\"38. European diplomacy steps up calls for Gaza ceasefire\"],\"textposition\":\"top center\",\"x\":[\"2023-12-17T16:07:18.912000+00:00\"],\"y\":[37],\"type\":\"scatter\"},{\"hoverinfo\":\"text\",\"marker\":{\"opacity\":0.7,\"size\":10},\"mode\":\"markers+text\",\"name\":\"Egyptian sources say Israel Hamas open to ceasefire disagreements remain\",\"text\":[\"39. Egyptian sources say Israel Hamas open to ceasefire disagreements remain\"],\"textposition\":\"top center\",\"x\":[\"2023-12-18T04:07:01.089000+00:00\"],\"y\":[38],\"type\":\"scatter\"},{\"hoverinfo\":\"text\",\"marker\":{\"opacity\":0.7,\"size\":10},\"mode\":\"markers+text\",\"name\":\"UN Security Council To Vote On New Call For Urgent Ceasefire In Gaza\",\"text\":[\"40. UN Security Council To Vote On New Call For Urgent Ceasefire In Gaza\"],\"textposition\":\"top center\",\"x\":[\"2023-12-18T04:07:36.662000+00:00\"],\"y\":[39],\"type\":\"scatter\"},{\"hoverinfo\":\"text\",\"marker\":{\"opacity\":0.7,\"size\":10},\"mode\":\"markers+text\",\"name\":\"Israel strikes Gaza as pressure grows for ceasefire\",\"text\":[\"41. Israel strikes Gaza as pressure grows for ceasefire\"],\"textposition\":\"top center\",\"x\":[\"2023-12-18T06:05:16.659000+00:00\"],\"y\":[40],\"type\":\"scatter\"},{\"hoverinfo\":\"text\",\"marker\":{\"opacity\":0.7,\"size\":10},\"mode\":\"markers+text\",\"name\":\"IsraelGaza war latest Hostages killed by IDF used food to create SOS sign Israel and Hamas open to another temporary ceasefire\",\"text\":[\"42. IsraelGaza war latest Hostages killed by IDF used food to create SOS sign Israel and Hamas open to another temporary ceasefire\"],\"textposition\":\"top center\",\"x\":[\"2023-12-18T06:07:07.056000+00:00\"],\"y\":[41],\"type\":\"scatter\"},{\"hoverinfo\":\"text\",\"marker\":{\"opacity\":0.7,\"size\":10},\"mode\":\"markers+text\",\"name\":\"IsraelPalestine conflict India votes for UNGA resolution for Gaza ceasefire\",\"text\":[\"43. IsraelPalestine conflict India votes for UNGA resolution for Gaza ceasefire\"],\"textposition\":\"top center\",\"x\":[\"2023-12-18T08:07:45.259000+00:00\"],\"y\":[42],\"type\":\"scatter\"},{\"hoverinfo\":\"text\",\"marker\":{\"opacity\":0.7,\"size\":10},\"mode\":\"markers+text\",\"name\":\"Civilians make up 61 of Gaza deaths from airstrikes Israeli study finds\",\"text\":[\"44. Civilians make up 61 of Gaza deaths from airstrikes Israeli study finds\"],\"textposition\":\"top center\",\"x\":[\"2023-12-18T12:02:19.987000+00:00\"],\"y\":[43],\"type\":\"scatter\"},{\"hoverinfo\":\"text\",\"marker\":{\"opacity\":0.7,\"size\":10},\"mode\":\"markers+text\",\"name\":\"Only US stands between massacre and ceasefire in Gaza Turkish FM Fidan\",\"text\":[\"45. Only US stands between massacre and ceasefire in Gaza Turkish FM Fidan\"],\"textposition\":\"top center\",\"x\":[\"2023-12-19T10:08:27.986000+00:00\"],\"y\":[44],\"type\":\"scatter\"},{\"hoverinfo\":\"text\",\"marker\":{\"opacity\":0.7,\"size\":10},\"mode\":\"markers+text\",\"name\":\"UN Security Council Postpones Vote On Gaza Ceasefire Resolution For Humanitarian Aid Access\",\"text\":[\"46. UN Security Council Postpones Vote On Gaza Ceasefire Resolution For Humanitarian Aid Access\"],\"textposition\":\"top center\",\"x\":[\"2023-12-20T00:06:36.072000+00:00\"],\"y\":[45],\"type\":\"scatter\"},{\"hoverinfo\":\"text\",\"marker\":{\"opacity\":0.7,\"size\":10},\"mode\":\"markers+text\",\"name\":\"Hamas Chief Ismail Haniyeh In Egypt Today For Gaza Ceasefire Talks\",\"text\":[\"47. Hamas Chief Ismail Haniyeh In Egypt Today For Gaza Ceasefire Talks\"],\"textposition\":\"top center\",\"x\":[\"2023-12-20T10:04:53.023000+00:00\"],\"y\":[46],\"type\":\"scatter\"},{\"hoverinfo\":\"text\",\"marker\":{\"opacity\":0.7,\"size\":10},\"mode\":\"markers+text\",\"name\":\"IsraelHamas War News Day 75 Live Updates Hamas chief arrives in Cairo for ceasefire talks\",\"text\":[\"48. IsraelHamas War News Day 75 Live Updates Hamas chief arrives in Cairo for ceasefire talks\"],\"textposition\":\"top center\",\"x\":[\"2023-12-20T14:05:02.256000+00:00\"],\"y\":[47],\"type\":\"scatter\"},{\"hoverinfo\":\"text\",\"marker\":{\"opacity\":0.7,\"size\":10},\"mode\":\"markers+text\",\"name\":\"WRAPUP 3Hamas leader visits Egypt amid intensive talks on new ceasefire\",\"text\":[\"49. WRAPUP 3Hamas leader visits Egypt amid intensive talks on new ceasefire\"],\"textposition\":\"top center\",\"x\":[\"2023-12-20T14:05:02.261000+00:00\"],\"y\":[48],\"type\":\"scatter\"},{\"hoverinfo\":\"text\",\"marker\":{\"opacity\":0.7,\"size\":10},\"mode\":\"markers+text\",\"name\":\"Israel President Isaac Herzog Open To 2nd Ceasefire In Gaza To Free Remaining Hostages\",\"text\":[\"50. Israel President Isaac Herzog Open To 2nd Ceasefire In Gaza To Free Remaining Hostages\"],\"textposition\":\"top center\",\"x\":[\"2023-12-20T14:06:38.737000+00:00\"],\"y\":[49],\"type\":\"scatter\"},{\"hoverinfo\":\"text\",\"marker\":{\"opacity\":0.7,\"size\":10},\"mode\":\"markers+text\",\"name\":\"Netanyahu rules out Gaza ceasefire before elimination of Hamas\",\"text\":[\"51. Netanyahu rules out Gaza ceasefire before elimination of Hamas\"],\"textposition\":\"top center\",\"x\":[\"2023-12-21T16:01:48.594000+00:00\"],\"y\":[50],\"type\":\"scatter\"},{\"hoverinfo\":\"text\",\"marker\":{\"opacity\":0.7,\"size\":10},\"mode\":\"markers+text\",\"name\":\"Israeli PM vows to fight until victory despite ceasefire efforts\",\"text\":[\"52. Israeli PM vows to fight until victory despite ceasefire efforts\"],\"textposition\":\"top center\",\"x\":[\"2023-12-21T16:01:48.594000+00:00\"],\"y\":[51],\"type\":\"scatter\"},{\"hoverinfo\":\"text\",\"marker\":{\"opacity\":0.7,\"size\":10},\"mode\":\"markers+text\",\"name\":\"Live updates Israeli airstrikes hit Gaza and UN says half a million people there are starving\",\"text\":[\"53. Live updates Israeli airstrikes hit Gaza and UN says half a million people there are starving\"],\"textposition\":\"top center\",\"x\":[\"2023-12-21T18:01:47.731000+00:00\"],\"y\":[52],\"type\":\"scatter\"},{\"hoverinfo\":\"text\",\"marker\":{\"opacity\":0.7,\"size\":10},\"mode\":\"markers+text\",\"name\":\"Hamas leader visits Egypt for Gaza ceasefire and hostage release talks\",\"text\":[\"54. Hamas leader visits Egypt for Gaza ceasefire and hostage release talks\"],\"textposition\":\"top center\",\"x\":[\"2023-12-22T08:03:29.735000+00:00\"],\"y\":[53],\"type\":\"scatter\"},{\"hoverinfo\":\"text\",\"marker\":{\"opacity\":0.7,\"size\":10},\"mode\":\"markers+text\",\"name\":\"Israeli airstrikes kill dozens more Palestinians across the Gaza Strip Rafah\",\"text\":[\"55. Israeli airstrikes kill dozens more Palestinians across the Gaza Strip Rafah\"],\"textposition\":\"top center\",\"x\":[\"2023-12-22T10:05:07.086000+00:00\"],\"y\":[54],\"type\":\"scatter\"},{\"hoverinfo\":\"text\",\"marker\":{\"opacity\":0.7,\"size\":10},\"mode\":\"markers+text\",\"name\":\"IsraelGaza war updates Residents fleeing areas of central Gaza groups criticize UN resolution\",\"text\":[\"56. IsraelGaza war updates Residents fleeing areas of central Gaza groups criticize UN resolution\"],\"textposition\":\"top center\",\"x\":[\"2023-12-23T16:05:15.761000+00:00\"],\"y\":[55],\"type\":\"scatter\"},{\"hoverinfo\":\"text\",\"marker\":{\"opacity\":0.7,\"size\":10},\"mode\":\"markers+text\",\"name\":\"IsraelOPT Adoption of UN resolution to expedite humanitarian aid to Gaza an important but insufficient step\",\"text\":[\"57. IsraelOPT Adoption of UN resolution to expedite humanitarian aid to Gaza an important but insufficient step\"],\"textposition\":\"top center\",\"x\":[\"2023-12-24T00:06:25.284000+00:00\"],\"y\":[56],\"type\":\"scatter\"},{\"hoverinfo\":\"text\",\"marker\":{\"opacity\":0.7,\"size\":10},\"mode\":\"markers+text\",\"name\":\"Humanitarian ceasefire only way to end Gaza 039nightmare039 Guterres\",\"text\":[\"58. Humanitarian ceasefire only way to end Gaza 039nightmare039 Guterres\"],\"textposition\":\"top center\",\"x\":[\"2023-12-24T00:06:25.287000+00:00\"],\"y\":[57],\"type\":\"scatter\"},{\"hoverinfo\":\"text\",\"marker\":{\"opacity\":0.7,\"size\":10},\"mode\":\"markers+text\",\"name\":\"Did not ask for ceasefire in Gaza Biden after phone call with Netanyahu\",\"text\":[\"59. Did not ask for ceasefire in Gaza Biden after phone call with Netanyahu\"],\"textposition\":\"top center\",\"x\":[\"2023-12-24T04:06:56.483000+00:00\"],\"y\":[58],\"type\":\"scatter\"},{\"hoverinfo\":\"text\",\"marker\":{\"opacity\":0.7,\"size\":10},\"mode\":\"markers+text\",\"name\":\"Biden says he did not ask for ceasefire in call with Israels Netanyahu\",\"text\":[\"60. Biden says he did not ask for ceasefire in call with Israels Netanyahu\"],\"textposition\":\"top center\",\"x\":[\"2023-12-24T04:06:56.484000+00:00\"],\"y\":[59],\"type\":\"scatter\"},{\"hoverinfo\":\"text\",\"marker\":{\"opacity\":0.7,\"size\":10},\"mode\":\"markers+text\",\"name\":\"Hamas rejects Israeli proposals for 7day ceasefire and hostage exchange\",\"text\":[\"61. Hamas rejects Israeli proposals for 7day ceasefire and hostage exchange\"],\"textposition\":\"top center\",\"x\":[\"2023-12-24T22:05:44.077000+00:00\"],\"y\":[60],\"type\":\"scatter\"},{\"hoverinfo\":\"text\",\"marker\":{\"opacity\":0.7,\"size\":10},\"mode\":\"markers+text\",\"name\":\"Israeli Airstrike Kills 70 In Gaza Refugee Camp Says Hamas\",\"text\":[\"62. Israeli Airstrike Kills 70 In Gaza Refugee Camp Says Hamas\"],\"textposition\":\"top center\",\"x\":[\"2023-12-25T04:07:37.447000+00:00\"],\"y\":[61],\"type\":\"scatter\"},{\"hoverinfo\":\"text\",\"marker\":{\"opacity\":0.7,\"size\":10},\"mode\":\"markers+text\",\"name\":\"First aid ship from Cyprus arrives in Gaza Hamas puts forth new ceasefire proposal\",\"text\":[\"63. First aid ship from Cyprus arrives in Gaza Hamas puts forth new ceasefire proposal\"],\"textposition\":\"top center\",\"x\":[\"2024-03-16T08:01:10.502000+00:00\"],\"y\":[62],\"type\":\"scatter\"},{\"hoverinfo\":\"text\",\"marker\":{\"opacity\":0.7,\"size\":10},\"mode\":\"markers+text\",\"name\":\"Gaza War Hamas Ceasefire Proposal to Mediators HostagePrisoner Exchange\",\"text\":[\"64. Gaza War Hamas Ceasefire Proposal to Mediators HostagePrisoner Exchange\"],\"textposition\":\"top center\",\"x\":[\"2024-03-16T08:04:00.305000+00:00\"],\"y\":[63],\"type\":\"scatter\"},{\"hoverinfo\":\"text\",\"marker\":{\"opacity\":0.7,\"size\":10},\"mode\":\"markers+text\",\"name\":\"Hamas demands ceasefire Israeli withdrawal as prerequisites for prisoner exchange deal\",\"text\":[\"65. Hamas demands ceasefire Israeli withdrawal as prerequisites for prisoner exchange deal\"],\"textposition\":\"top center\",\"x\":[\"2024-03-16T08:04:00.309000+00:00\"],\"y\":[64],\"type\":\"scatter\"},{\"hoverinfo\":\"text\",\"marker\":{\"opacity\":0.7,\"size\":10},\"mode\":\"markers+text\",\"name\":\"Hamas issues ceasefire proposal detailing exchange of hostages prisoners\",\"text\":[\"66. Hamas issues ceasefire proposal detailing exchange of hostages prisoners\"],\"textposition\":\"top center\",\"x\":[\"2024-03-17T04:18:37.834000+00:00\"],\"y\":[65],\"type\":\"scatter\"},{\"hoverinfo\":\"text\",\"marker\":{\"opacity\":0.7,\"size\":10},\"mode\":\"markers+text\",\"name\":\"The Latest Death toll climbs after airstrikes and rocket fire on LebanonIsrael border\",\"text\":[\"67. The Latest Death toll climbs after airstrikes and rocket fire on LebanonIsrael border\"],\"textposition\":\"top center\",\"x\":[\"2024-03-28T15:11:10.626000+00:00\"],\"y\":[66],\"type\":\"scatter\"},{\"hoverinfo\":\"text\",\"marker\":{\"opacity\":0.7,\"size\":10},\"mode\":\"markers+text\",\"name\":\"Israel confirms Hamas Marwan Issa killed in airstrike earlier this month\",\"text\":[\"68. Israel confirms Hamas Marwan Issa killed in airstrike earlier this month\"],\"textposition\":\"top center\",\"x\":[\"2024-03-28T15:11:15.311000+00:00\"],\"y\":[67],\"type\":\"scatter\"},{\"hoverinfo\":\"text\",\"marker\":{\"opacity\":0.7,\"size\":10},\"mode\":\"markers+text\",\"name\":\"Israeli airstrikes kill 20 in Gaza Rafah say Palestinian officials\",\"text\":[\"69. Israeli airstrikes kill 20 in Gaza Rafah say Palestinian officials\"],\"textposition\":\"top center\",\"x\":[\"2024-03-28T16:35:07.740000+00:00\"],\"y\":[68],\"type\":\"scatter\"},{\"hoverinfo\":\"text\",\"marker\":{\"opacity\":0.7,\"size\":10},\"mode\":\"markers+text\",\"name\":\"Israel continues to bomb Gaza and block aid in defiance of UNSC ceasefire resolution Peoples Dispatch\",\"text\":[\"70. Israel continues to bomb Gaza and block aid in defiance of UNSC ceasefire resolution Peoples Dispatch\"],\"textposition\":\"top center\",\"x\":[\"2024-03-28T16:35:29.470000+00:00\"],\"y\":[69],\"type\":\"scatter\"},{\"hoverinfo\":\"text\",\"marker\":{\"opacity\":0.7,\"size\":10},\"mode\":\"markers+text\",\"name\":\"Gaza Death Toll Continues to Rise Despite Adopted Ceasefire Resolution\",\"text\":[\"71. Gaza Death Toll Continues to Rise Despite Adopted Ceasefire Resolution\"],\"textposition\":\"top center\",\"x\":[\"2024-03-28T23:00:48.582000+00:00\"],\"y\":[70],\"type\":\"scatter\"},{\"hoverinfo\":\"text\",\"marker\":{\"opacity\":0.7,\"size\":10},\"mode\":\"markers+text\",\"name\":\"Syria says Israeli airstrikes near northern city of Aleppo inflicts casualties\",\"text\":[\"72. Syria says Israeli airstrikes near northern city of Aleppo inflicts casualties\"],\"textposition\":\"top center\",\"x\":[\"2024-03-29T08:01:49.830000+00:00\"],\"y\":[71],\"type\":\"scatter\"},{\"hoverinfo\":\"text\",\"marker\":{\"opacity\":0.7,\"size\":10},\"mode\":\"markers+text\",\"name\":\"Netanyahu approves new Gaza ceasefire talks\",\"text\":[\"73. Netanyahu approves new Gaza ceasefire talks\"],\"textposition\":\"top center\",\"x\":[\"2024-03-29T20:04:28.549000+00:00\"],\"y\":[72],\"type\":\"scatter\"},{\"hoverinfo\":\"text\",\"marker\":{\"opacity\":0.7,\"size\":10},\"mode\":\"markers+text\",\"name\":\"Israel To Return To CeaseFire Negotiations But Strikes On Gaza And Syria Continue By Benzinga\",\"text\":[\"74. Israel To Return To CeaseFire Negotiations But Strikes On Gaza And Syria Continue By Benzinga\"],\"textposition\":\"top center\",\"x\":[\"2024-03-29T20:05:31.003000+00:00\"],\"y\":[73],\"type\":\"scatter\"},{\"hoverinfo\":\"text\",\"marker\":{\"opacity\":0.7,\"size\":10},\"mode\":\"markers+text\",\"name\":\"Death toll rises to 42 after Israeli airstrikes hit Syrias Aleppo\",\"text\":[\"75. Death toll rises to 42 after Israeli airstrikes hit Syrias Aleppo\"],\"textposition\":\"top center\",\"x\":[\"2024-03-30T02:05:17.278000+00:00\"],\"y\":[74],\"type\":\"scatter\"},{\"hoverinfo\":\"text\",\"marker\":{\"opacity\":0.7,\"size\":10},\"mode\":\"markers+text\",\"name\":\"Hamas leader Ismail Haniyeh Visits Iran Post UN Resolution On Gaza\",\"text\":[\"76. Hamas leader Ismail Haniyeh Visits Iran Post UN Resolution On Gaza\"],\"textposition\":\"top center\",\"x\":[\"2024-03-30T02:05:27.062000+00:00\"],\"y\":[75],\"type\":\"scatter\"},{\"hoverinfo\":\"text\",\"marker\":{\"opacity\":0.7,\"size\":10},\"mode\":\"markers+text\",\"name\":\"Israels message to the world must be clear Hostages for a ceasefire now opinion\",\"text\":[\"77. Israels message to the world must be clear Hostages for a ceasefire now opinion\"],\"textposition\":\"top center\",\"x\":[\"2024-03-30T16:05:08.805000+00:00\"],\"y\":[76],\"type\":\"scatter\"},{\"hoverinfo\":\"text\",\"marker\":{\"opacity\":0.7,\"size\":10},\"mode\":\"markers+text\",\"name\":\"Naked Hypocrisy The US Cited UNSC Resolutions to Invade Iraq Now Call Gaza Ceasefire Demand NonBinding\",\"text\":[\"78. Naked Hypocrisy The US Cited UNSC Resolutions to Invade Iraq Now Call Gaza Ceasefire Demand NonBinding\"],\"textposition\":\"top center\",\"x\":[\"2024-03-30T18:05:43.334000+00:00\"],\"y\":[77],\"type\":\"scatter\"},{\"hoverinfo\":\"text\",\"marker\":{\"opacity\":0.7,\"size\":10},\"mode\":\"markers+text\",\"name\":\"UN To Vote On Resolution Demanding A CeaseFire In Gaza During Ramazan\",\"text\":[\"79. UN To Vote On Resolution Demanding A CeaseFire In Gaza During Ramazan\"],\"textposition\":\"top center\",\"x\":[\"2024-03-30T20:05:16.973000+00:00\"],\"y\":[78],\"type\":\"scatter\"}],                        {\"template\":{\"data\":{\"histogram2dcontour\":[{\"type\":\"histogram2dcontour\",\"colorbar\":{\"outlinewidth\":0,\"ticks\":\"\"},\"colorscale\":[[0.0,\"#0d0887\"],[0.1111111111111111,\"#46039f\"],[0.2222222222222222,\"#7201a8\"],[0.3333333333333333,\"#9c179e\"],[0.4444444444444444,\"#bd3786\"],[0.5555555555555556,\"#d8576b\"],[0.6666666666666666,\"#ed7953\"],[0.7777777777777778,\"#fb9f3a\"],[0.8888888888888888,\"#fdca26\"],[1.0,\"#f0f921\"]]}],\"choropleth\":[{\"type\":\"choropleth\",\"colorbar\":{\"outlinewidth\":0,\"ticks\":\"\"}}],\"histogram2d\":[{\"type\":\"histogram2d\",\"colorbar\":{\"outlinewidth\":0,\"ticks\":\"\"},\"colorscale\":[[0.0,\"#0d0887\"],[0.1111111111111111,\"#46039f\"],[0.2222222222222222,\"#7201a8\"],[0.3333333333333333,\"#9c179e\"],[0.4444444444444444,\"#bd3786\"],[0.5555555555555556,\"#d8576b\"],[0.6666666666666666,\"#ed7953\"],[0.7777777777777778,\"#fb9f3a\"],[0.8888888888888888,\"#fdca26\"],[1.0,\"#f0f921\"]]}],\"heatmap\":[{\"type\":\"heatmap\",\"colorbar\":{\"outlinewidth\":0,\"ticks\":\"\"},\"colorscale\":[[0.0,\"#0d0887\"],[0.1111111111111111,\"#46039f\"],[0.2222222222222222,\"#7201a8\"],[0.3333333333333333,\"#9c179e\"],[0.4444444444444444,\"#bd3786\"],[0.5555555555555556,\"#d8576b\"],[0.6666666666666666,\"#ed7953\"],[0.7777777777777778,\"#fb9f3a\"],[0.8888888888888888,\"#fdca26\"],[1.0,\"#f0f921\"]]}],\"heatmapgl\":[{\"type\":\"heatmapgl\",\"colorbar\":{\"outlinewidth\":0,\"ticks\":\"\"},\"colorscale\":[[0.0,\"#0d0887\"],[0.1111111111111111,\"#46039f\"],[0.2222222222222222,\"#7201a8\"],[0.3333333333333333,\"#9c179e\"],[0.4444444444444444,\"#bd3786\"],[0.5555555555555556,\"#d8576b\"],[0.6666666666666666,\"#ed7953\"],[0.7777777777777778,\"#fb9f3a\"],[0.8888888888888888,\"#fdca26\"],[1.0,\"#f0f921\"]]}],\"contourcarpet\":[{\"type\":\"contourcarpet\",\"colorbar\":{\"outlinewidth\":0,\"ticks\":\"\"}}],\"contour\":[{\"type\":\"contour\",\"colorbar\":{\"outlinewidth\":0,\"ticks\":\"\"},\"colorscale\":[[0.0,\"#0d0887\"],[0.1111111111111111,\"#46039f\"],[0.2222222222222222,\"#7201a8\"],[0.3333333333333333,\"#9c179e\"],[0.4444444444444444,\"#bd3786\"],[0.5555555555555556,\"#d8576b\"],[0.6666666666666666,\"#ed7953\"],[0.7777777777777778,\"#fb9f3a\"],[0.8888888888888888,\"#fdca26\"],[1.0,\"#f0f921\"]]}],\"surface\":[{\"type\":\"surface\",\"colorbar\":{\"outlinewidth\":0,\"ticks\":\"\"},\"colorscale\":[[0.0,\"#0d0887\"],[0.1111111111111111,\"#46039f\"],[0.2222222222222222,\"#7201a8\"],[0.3333333333333333,\"#9c179e\"],[0.4444444444444444,\"#bd3786\"],[0.5555555555555556,\"#d8576b\"],[0.6666666666666666,\"#ed7953\"],[0.7777777777777778,\"#fb9f3a\"],[0.8888888888888888,\"#fdca26\"],[1.0,\"#f0f921\"]]}],\"mesh3d\":[{\"type\":\"mesh3d\",\"colorbar\":{\"outlinewidth\":0,\"ticks\":\"\"}}],\"scatter\":[{\"fillpattern\":{\"fillmode\":\"overlay\",\"size\":10,\"solidity\":0.2},\"type\":\"scatter\"}],\"parcoords\":[{\"type\":\"parcoords\",\"line\":{\"colorbar\":{\"outlinewidth\":0,\"ticks\":\"\"}}}],\"scatterpolargl\":[{\"type\":\"scatterpolargl\",\"marker\":{\"colorbar\":{\"outlinewidth\":0,\"ticks\":\"\"}}}],\"bar\":[{\"error_x\":{\"color\":\"#2a3f5f\"},\"error_y\":{\"color\":\"#2a3f5f\"},\"marker\":{\"line\":{\"color\":\"#E5ECF6\",\"width\":0.5},\"pattern\":{\"fillmode\":\"overlay\",\"size\":10,\"solidity\":0.2}},\"type\":\"bar\"}],\"scattergeo\":[{\"type\":\"scattergeo\",\"marker\":{\"colorbar\":{\"outlinewidth\":0,\"ticks\":\"\"}}}],\"scatterpolar\":[{\"type\":\"scatterpolar\",\"marker\":{\"colorbar\":{\"outlinewidth\":0,\"ticks\":\"\"}}}],\"histogram\":[{\"marker\":{\"pattern\":{\"fillmode\":\"overlay\",\"size\":10,\"solidity\":0.2}},\"type\":\"histogram\"}],\"scattergl\":[{\"type\":\"scattergl\",\"marker\":{\"colorbar\":{\"outlinewidth\":0,\"ticks\":\"\"}}}],\"scatter3d\":[{\"type\":\"scatter3d\",\"line\":{\"colorbar\":{\"outlinewidth\":0,\"ticks\":\"\"}},\"marker\":{\"colorbar\":{\"outlinewidth\":0,\"ticks\":\"\"}}}],\"scattermapbox\":[{\"type\":\"scattermapbox\",\"marker\":{\"colorbar\":{\"outlinewidth\":0,\"ticks\":\"\"}}}],\"scatterternary\":[{\"type\":\"scatterternary\",\"marker\":{\"colorbar\":{\"outlinewidth\":0,\"ticks\":\"\"}}}],\"scattercarpet\":[{\"type\":\"scattercarpet\",\"marker\":{\"colorbar\":{\"outlinewidth\":0,\"ticks\":\"\"}}}],\"carpet\":[{\"aaxis\":{\"endlinecolor\":\"#2a3f5f\",\"gridcolor\":\"white\",\"linecolor\":\"white\",\"minorgridcolor\":\"white\",\"startlinecolor\":\"#2a3f5f\"},\"baxis\":{\"endlinecolor\":\"#2a3f5f\",\"gridcolor\":\"white\",\"linecolor\":\"white\",\"minorgridcolor\":\"white\",\"startlinecolor\":\"#2a3f5f\"},\"type\":\"carpet\"}],\"table\":[{\"cells\":{\"fill\":{\"color\":\"#EBF0F8\"},\"line\":{\"color\":\"white\"}},\"header\":{\"fill\":{\"color\":\"#C8D4E3\"},\"line\":{\"color\":\"white\"}},\"type\":\"table\"}],\"barpolar\":[{\"marker\":{\"line\":{\"color\":\"#E5ECF6\",\"width\":0.5},\"pattern\":{\"fillmode\":\"overlay\",\"size\":10,\"solidity\":0.2}},\"type\":\"barpolar\"}],\"pie\":[{\"automargin\":true,\"type\":\"pie\"}]},\"layout\":{\"autotypenumbers\":\"strict\",\"colorway\":[\"#636efa\",\"#EF553B\",\"#00cc96\",\"#ab63fa\",\"#FFA15A\",\"#19d3f3\",\"#FF6692\",\"#B6E880\",\"#FF97FF\",\"#FECB52\"],\"font\":{\"color\":\"#2a3f5f\"},\"hovermode\":\"closest\",\"hoverlabel\":{\"align\":\"left\"},\"paper_bgcolor\":\"white\",\"plot_bgcolor\":\"#E5ECF6\",\"polar\":{\"bgcolor\":\"#E5ECF6\",\"angularaxis\":{\"gridcolor\":\"white\",\"linecolor\":\"white\",\"ticks\":\"\"},\"radialaxis\":{\"gridcolor\":\"white\",\"linecolor\":\"white\",\"ticks\":\"\"}},\"ternary\":{\"bgcolor\":\"#E5ECF6\",\"aaxis\":{\"gridcolor\":\"white\",\"linecolor\":\"white\",\"ticks\":\"\"},\"baxis\":{\"gridcolor\":\"white\",\"linecolor\":\"white\",\"ticks\":\"\"},\"caxis\":{\"gridcolor\":\"white\",\"linecolor\":\"white\",\"ticks\":\"\"}},\"coloraxis\":{\"colorbar\":{\"outlinewidth\":0,\"ticks\":\"\"}},\"colorscale\":{\"sequential\":[[0.0,\"#0d0887\"],[0.1111111111111111,\"#46039f\"],[0.2222222222222222,\"#7201a8\"],[0.3333333333333333,\"#9c179e\"],[0.4444444444444444,\"#bd3786\"],[0.5555555555555556,\"#d8576b\"],[0.6666666666666666,\"#ed7953\"],[0.7777777777777778,\"#fb9f3a\"],[0.8888888888888888,\"#fdca26\"],[1.0,\"#f0f921\"]],\"sequentialminus\":[[0.0,\"#0d0887\"],[0.1111111111111111,\"#46039f\"],[0.2222222222222222,\"#7201a8\"],[0.3333333333333333,\"#9c179e\"],[0.4444444444444444,\"#bd3786\"],[0.5555555555555556,\"#d8576b\"],[0.6666666666666666,\"#ed7953\"],[0.7777777777777778,\"#fb9f3a\"],[0.8888888888888888,\"#fdca26\"],[1.0,\"#f0f921\"]],\"diverging\":[[0,\"#8e0152\"],[0.1,\"#c51b7d\"],[0.2,\"#de77ae\"],[0.3,\"#f1b6da\"],[0.4,\"#fde0ef\"],[0.5,\"#f7f7f7\"],[0.6,\"#e6f5d0\"],[0.7,\"#b8e186\"],[0.8,\"#7fbc41\"],[0.9,\"#4d9221\"],[1,\"#276419\"]]},\"xaxis\":{\"gridcolor\":\"white\",\"linecolor\":\"white\",\"ticks\":\"\",\"title\":{\"standoff\":15},\"zerolinecolor\":\"white\",\"automargin\":true,\"zerolinewidth\":2},\"yaxis\":{\"gridcolor\":\"white\",\"linecolor\":\"white\",\"ticks\":\"\",\"title\":{\"standoff\":15},\"zerolinecolor\":\"white\",\"automargin\":true,\"zerolinewidth\":2},\"scene\":{\"xaxis\":{\"backgroundcolor\":\"#E5ECF6\",\"gridcolor\":\"white\",\"linecolor\":\"white\",\"showbackground\":true,\"ticks\":\"\",\"zerolinecolor\":\"white\",\"gridwidth\":2},\"yaxis\":{\"backgroundcolor\":\"#E5ECF6\",\"gridcolor\":\"white\",\"linecolor\":\"white\",\"showbackground\":true,\"ticks\":\"\",\"zerolinecolor\":\"white\",\"gridwidth\":2},\"zaxis\":{\"backgroundcolor\":\"#E5ECF6\",\"gridcolor\":\"white\",\"linecolor\":\"white\",\"showbackground\":true,\"ticks\":\"\",\"zerolinecolor\":\"white\",\"gridwidth\":2}},\"shapedefaults\":{\"line\":{\"color\":\"#2a3f5f\"}},\"annotationdefaults\":{\"arrowcolor\":\"#2a3f5f\",\"arrowhead\":0,\"arrowwidth\":1},\"geo\":{\"bgcolor\":\"white\",\"landcolor\":\"#E5ECF6\",\"subunitcolor\":\"white\",\"showland\":true,\"showlakes\":true,\"lakecolor\":\"white\"},\"title\":{\"x\":0.05},\"mapbox\":{\"style\":\"light\"}}},\"yaxis\":{\"title\":{\"text\":\"\"},\"tickvals\":[0,1,2,3,4,5,6,7,8,9,10,11,12,13,14,15,16,17,18,19,20,21,22,23,24,25,26,27,28,29,30,31,32,33,34,35,36,37,38,39,40,41,42,43,44,45,46,47,48,49,50,51,52,53,54,55,56,57,58,59,60,61,62,63,64,65,66,67,68,69,70,71,72,73,74,75,76,77,78],\"ticktext\":[\"27 October 2023\",\"27 October 2023\",\"27 October 2023\",\"27 October 2023\",\"03 December 2023\",\"03 December 2023\",\"03 December 2023\",\"03 December 2023\",\"03 December 2023\",\"03 December 2023\",\"03 December 2023\",\"03 December 2023\",\"04 December 2023\",\"04 December 2023\",\"04 December 2023\",\"04 December 2023\",\"04 December 2023\",\"05 December 2023\",\"06 December 2023\",\"07 December 2023\",\"08 December 2023\",\"08 December 2023\",\"09 December 2023\",\"09 December 2023\",\"09 December 2023\",\"10 December 2023\",\"11 December 2023\",\"11 December 2023\",\"13 December 2023\",\"13 December 2023\",\"13 December 2023\",\"14 December 2023\",\"14 December 2023\",\"15 December 2023\",\"17 December 2023\",\"17 December 2023\",\"17 December 2023\",\"17 December 2023\",\"18 December 2023\",\"18 December 2023\",\"18 December 2023\",\"18 December 2023\",\"18 December 2023\",\"18 December 2023\",\"19 December 2023\",\"20 December 2023\",\"20 December 2023\",\"20 December 2023\",\"20 December 2023\",\"20 December 2023\",\"21 December 2023\",\"21 December 2023\",\"21 December 2023\",\"22 December 2023\",\"22 December 2023\",\"23 December 2023\",\"24 December 2023\",\"24 December 2023\",\"24 December 2023\",\"24 December 2023\",\"24 December 2023\",\"25 December 2023\",\"16 March 2024\",\"16 March 2024\",\"16 March 2024\",\"17 March 2024\",\"28 March 2024\",\"28 March 2024\",\"28 March 2024\",\"28 March 2024\",\"28 March 2024\",\"29 March 2024\",\"29 March 2024\",\"29 March 2024\",\"30 March 2024\",\"30 March 2024\",\"30 March 2024\",\"30 March 2024\",\"30 March 2024\"],\"showticklabels\":true,\"automargin\":true},\"xaxis\":{\"title\":{\"text\":\"Date\"},\"tickformat\":\"%d %B %Y\"},\"title\":{\"text\":\"Timeline of Events\"},\"showlegend\":false,\"height\":1000,\"hovermode\":\"closest\"},                        {\"responsive\": true}                    ).then(function(){\n",
       "                            \n",
       "var gd = document.getElementById('b36b26df-48e3-44e1-b137-5a11539965b5');\n",
       "var x = new MutationObserver(function (mutations, observer) {{\n",
       "        var display = window.getComputedStyle(gd).display;\n",
       "        if (!display || display === 'none') {{\n",
       "            console.log([gd, 'removed!']);\n",
       "            Plotly.purge(gd);\n",
       "            observer.disconnect();\n",
       "        }}\n",
       "}});\n",
       "\n",
       "// Listen for the removal of the full notebook cells\n",
       "var notebookContainer = gd.closest('#notebook-container');\n",
       "if (notebookContainer) {{\n",
       "    x.observe(notebookContainer, {childList: true});\n",
       "}}\n",
       "\n",
       "// Listen for the clearing of the current output cell\n",
       "var outputEl = gd.closest('.output');\n",
       "if (outputEl) {{\n",
       "    x.observe(outputEl, {childList: true});\n",
       "}}\n",
       "\n",
       "                        })                };                });            </script>        </div>"
      ]
     },
     "metadata": {},
     "output_type": "display_data"
    }
   ],
   "source": [
    "important_events_df['date'] = pd.to_datetime(important_events_df['date'])\n",
    "\n",
    "# Sort events by date for better visualization\n",
    "important_events_df = important_events_df.sort_values(by='date').reset_index(drop=True)\n",
    "\n",
    "# Create a timeline plot using Plotly\n",
    "fig = go.Figure()\n",
    "\n",
    "# Define unique y positions for events to avoid overlap\n",
    "y_positions = list(range(len(important_events_df)))\n",
    "\n",
    "# Add a number sequence for events\n",
    "for index, row in important_events_df.iterrows():\n",
    "    event_text = f\"{index + 1}. {row['title']}\"\n",
    "    fig.add_trace(go.Scatter(\n",
    "        x=[row['date']],\n",
    "        y=[y_positions[index]],  # Use unique y positions\n",
    "        mode='markers+text',\n",
    "        text=[event_text],\n",
    "        textposition='top center',\n",
    "        marker=dict(size=10, opacity=0.7),\n",
    "        hoverinfo='text',\n",
    "        name=row['title']\n",
    "    ))\n",
    "\n",
    "# Update layout\n",
    "fig.update_layout(\n",
    "    title='Timeline of Events',\n",
    "    xaxis_title='Date',\n",
    "    yaxis=dict(\n",
    "        title='',\n",
    "        tickvals=y_positions,\n",
    "        ticktext=important_events_df['date'].dt.strftime('%d %B %Y').tolist(),\n",
    "        showticklabels=True,\n",
    "        automargin=True\n",
    "    ),\n",
    "    xaxis_tickformat='%d %B %Y',\n",
    "    showlegend=False,\n",
    "    height=1000,  # Adjust height to fit all events\n",
    "    hovermode='closest'\n",
    ")\n",
    "\n",
    "# Show the Plotly timeline figure\n",
    "fig.show()"
   ]
  },
  {
   "cell_type": "code",
   "execution_count": null,
   "id": "e0e36b31-f7a8-49b7-80b4-7c0dd9cf8a81",
   "metadata": {},
   "outputs": [],
   "source": []
  }
 ],
 "metadata": {
  "kernelspec": {
   "display_name": "Python 3 (ipykernel)",
   "language": "python",
   "name": "python3"
  },
  "language_info": {
   "codemirror_mode": {
    "name": "ipython",
    "version": 3
   },
   "file_extension": ".py",
   "mimetype": "text/x-python",
   "name": "python",
   "nbconvert_exporter": "python",
   "pygments_lexer": "ipython3",
   "version": "3.11.7"
  }
 },
 "nbformat": 4,
 "nbformat_minor": 5
}
